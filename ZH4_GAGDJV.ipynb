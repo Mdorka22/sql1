{
    "metadata": {
        "kernelspec": {
            "name": "SQL",
            "display_name": "SQL",
            "language": "sql"
        },
        "language_info": {
            "name": "sql",
            "version": ""
        }
    },
    "nbformat_minor": 2,
    "nbformat": 4,
    "cells": [
        {
            "cell_type": "markdown",
            "source": [
                ""
            ],
            "metadata": {
                "azdata_cell_guid": "96595d5b-6c51-41b1-8c87-f9f8c9114f51"
            }
        },
        {
            "cell_type": "markdown",
            "source": [
                "Jelenítsük meg minden egyes szoba esetén, hogy hányszor foglalták le!\n",
                "\n",
                "- Csak a szoba azonosítója és a foglalások darabszáma jelenjen meg\n",
                "- Azok a szobák is jelenjenek meg, ahol nem történt foglalás"
            ],
            "metadata": {
                "azdata_cell_guid": "6b12e533-6fc5-465d-a53f-8706c91ee168"
            },
            "attachments": {}
        },
        {
            "cell_type": "markdown",
            "source": [
                ""
            ],
            "metadata": {
                "azdata_cell_guid": "26b13668-669a-4c0e-a483-d076c453f31e"
            }
        },
        {
            "cell_type": "code",
            "source": [
                "select sz.SZOBA_ID, count(*)\r\n",
                "from Szoba sz left join Foglalas f on sz.SZOBA_ID=f.SZOBA_FK\r\n",
                "group by sz.SZOBA_ID\r\n",
                ""
            ],
            "metadata": {
                "azdata_cell_guid": "de271b67-9cfd-484f-ac11-86e4a3f597aa",
                "language": "sql"
            },
            "outputs": [
                {
                    "output_type": "display_data",
                    "data": {
                        "text/html": "(294 rows affected)"
                    },
                    "metadata": {}
                },
                {
                    "output_type": "display_data",
                    "data": {
                        "text/html": "Total execution time: 00:00:00.011"
                    },
                    "metadata": {}
                },
                {
                    "output_type": "execute_result",
                    "metadata": {},
                    "execution_count": 46,
                    "data": {
                        "application/vnd.dataresource+json": {
                            "schema": {
                                "fields": [
                                    {
                                        "name": "SZOBA_ID"
                                    },
                                    {
                                        "name": "(No column name)"
                                    }
                                ]
                            },
                            "data": [
                                {
                                    "SZOBA_ID": "1",
                                    "(No column name)": "8"
                                },
                                {
                                    "SZOBA_ID": "2",
                                    "(No column name)": "4"
                                },
                                {
                                    "SZOBA_ID": "3",
                                    "(No column name)": "8"
                                },
                                {
                                    "SZOBA_ID": "4",
                                    "(No column name)": "6"
                                },
                                {
                                    "SZOBA_ID": "5",
                                    "(No column name)": "4"
                                },
                                {
                                    "SZOBA_ID": "6",
                                    "(No column name)": "6"
                                },
                                {
                                    "SZOBA_ID": "7",
                                    "(No column name)": "6"
                                },
                                {
                                    "SZOBA_ID": "8",
                                    "(No column name)": "5"
                                },
                                {
                                    "SZOBA_ID": "9",
                                    "(No column name)": "6"
                                },
                                {
                                    "SZOBA_ID": "10",
                                    "(No column name)": "4"
                                },
                                {
                                    "SZOBA_ID": "11",
                                    "(No column name)": "4"
                                },
                                {
                                    "SZOBA_ID": "12",
                                    "(No column name)": "9"
                                },
                                {
                                    "SZOBA_ID": "13",
                                    "(No column name)": "4"
                                },
                                {
                                    "SZOBA_ID": "14",
                                    "(No column name)": "3"
                                },
                                {
                                    "SZOBA_ID": "15",
                                    "(No column name)": "6"
                                },
                                {
                                    "SZOBA_ID": "16",
                                    "(No column name)": "5"
                                },
                                {
                                    "SZOBA_ID": "17",
                                    "(No column name)": "6"
                                },
                                {
                                    "SZOBA_ID": "18",
                                    "(No column name)": "6"
                                },
                                {
                                    "SZOBA_ID": "19",
                                    "(No column name)": "6"
                                },
                                {
                                    "SZOBA_ID": "20",
                                    "(No column name)": "5"
                                },
                                {
                                    "SZOBA_ID": "21",
                                    "(No column name)": "4"
                                },
                                {
                                    "SZOBA_ID": "22",
                                    "(No column name)": "6"
                                },
                                {
                                    "SZOBA_ID": "23",
                                    "(No column name)": "3"
                                },
                                {
                                    "SZOBA_ID": "24",
                                    "(No column name)": "3"
                                },
                                {
                                    "SZOBA_ID": "25",
                                    "(No column name)": "2"
                                },
                                {
                                    "SZOBA_ID": "26",
                                    "(No column name)": "2"
                                },
                                {
                                    "SZOBA_ID": "27",
                                    "(No column name)": "7"
                                },
                                {
                                    "SZOBA_ID": "28",
                                    "(No column name)": "6"
                                },
                                {
                                    "SZOBA_ID": "29",
                                    "(No column name)": "6"
                                },
                                {
                                    "SZOBA_ID": "30",
                                    "(No column name)": "3"
                                },
                                {
                                    "SZOBA_ID": "31",
                                    "(No column name)": "3"
                                },
                                {
                                    "SZOBA_ID": "32",
                                    "(No column name)": "1"
                                },
                                {
                                    "SZOBA_ID": "33",
                                    "(No column name)": "6"
                                },
                                {
                                    "SZOBA_ID": "34",
                                    "(No column name)": "4"
                                },
                                {
                                    "SZOBA_ID": "35",
                                    "(No column name)": "9"
                                },
                                {
                                    "SZOBA_ID": "36",
                                    "(No column name)": "6"
                                },
                                {
                                    "SZOBA_ID": "37",
                                    "(No column name)": "3"
                                },
                                {
                                    "SZOBA_ID": "38",
                                    "(No column name)": "8"
                                },
                                {
                                    "SZOBA_ID": "39",
                                    "(No column name)": "7"
                                },
                                {
                                    "SZOBA_ID": "40",
                                    "(No column name)": "4"
                                },
                                {
                                    "SZOBA_ID": "41",
                                    "(No column name)": "2"
                                },
                                {
                                    "SZOBA_ID": "42",
                                    "(No column name)": "6"
                                },
                                {
                                    "SZOBA_ID": "43",
                                    "(No column name)": "8"
                                },
                                {
                                    "SZOBA_ID": "44",
                                    "(No column name)": "6"
                                },
                                {
                                    "SZOBA_ID": "45",
                                    "(No column name)": "5"
                                },
                                {
                                    "SZOBA_ID": "46",
                                    "(No column name)": "4"
                                },
                                {
                                    "SZOBA_ID": "47",
                                    "(No column name)": "2"
                                },
                                {
                                    "SZOBA_ID": "48",
                                    "(No column name)": "9"
                                },
                                {
                                    "SZOBA_ID": "49",
                                    "(No column name)": "7"
                                },
                                {
                                    "SZOBA_ID": "50",
                                    "(No column name)": "4"
                                },
                                {
                                    "SZOBA_ID": "51",
                                    "(No column name)": "5"
                                },
                                {
                                    "SZOBA_ID": "52",
                                    "(No column name)": "5"
                                },
                                {
                                    "SZOBA_ID": "53",
                                    "(No column name)": "2"
                                },
                                {
                                    "SZOBA_ID": "54",
                                    "(No column name)": "6"
                                },
                                {
                                    "SZOBA_ID": "55",
                                    "(No column name)": "8"
                                },
                                {
                                    "SZOBA_ID": "56",
                                    "(No column name)": "2"
                                },
                                {
                                    "SZOBA_ID": "57",
                                    "(No column name)": "4"
                                },
                                {
                                    "SZOBA_ID": "58",
                                    "(No column name)": "13"
                                },
                                {
                                    "SZOBA_ID": "59",
                                    "(No column name)": "7"
                                },
                                {
                                    "SZOBA_ID": "60",
                                    "(No column name)": "1"
                                },
                                {
                                    "SZOBA_ID": "61",
                                    "(No column name)": "5"
                                },
                                {
                                    "SZOBA_ID": "62",
                                    "(No column name)": "5"
                                },
                                {
                                    "SZOBA_ID": "63",
                                    "(No column name)": "4"
                                },
                                {
                                    "SZOBA_ID": "64",
                                    "(No column name)": "6"
                                },
                                {
                                    "SZOBA_ID": "65",
                                    "(No column name)": "1"
                                },
                                {
                                    "SZOBA_ID": "66",
                                    "(No column name)": "4"
                                },
                                {
                                    "SZOBA_ID": "67",
                                    "(No column name)": "6"
                                },
                                {
                                    "SZOBA_ID": "68",
                                    "(No column name)": "3"
                                },
                                {
                                    "SZOBA_ID": "69",
                                    "(No column name)": "4"
                                },
                                {
                                    "SZOBA_ID": "70",
                                    "(No column name)": "11"
                                },
                                {
                                    "SZOBA_ID": "71",
                                    "(No column name)": "3"
                                },
                                {
                                    "SZOBA_ID": "72",
                                    "(No column name)": "4"
                                },
                                {
                                    "SZOBA_ID": "73",
                                    "(No column name)": "4"
                                },
                                {
                                    "SZOBA_ID": "74",
                                    "(No column name)": "9"
                                },
                                {
                                    "SZOBA_ID": "75",
                                    "(No column name)": "3"
                                },
                                {
                                    "SZOBA_ID": "76",
                                    "(No column name)": "3"
                                },
                                {
                                    "SZOBA_ID": "77",
                                    "(No column name)": "6"
                                },
                                {
                                    "SZOBA_ID": "78",
                                    "(No column name)": "6"
                                },
                                {
                                    "SZOBA_ID": "79",
                                    "(No column name)": "5"
                                },
                                {
                                    "SZOBA_ID": "80",
                                    "(No column name)": "7"
                                },
                                {
                                    "SZOBA_ID": "81",
                                    "(No column name)": "5"
                                },
                                {
                                    "SZOBA_ID": "82",
                                    "(No column name)": "6"
                                },
                                {
                                    "SZOBA_ID": "83",
                                    "(No column name)": "8"
                                },
                                {
                                    "SZOBA_ID": "84",
                                    "(No column name)": "4"
                                },
                                {
                                    "SZOBA_ID": "85",
                                    "(No column name)": "4"
                                },
                                {
                                    "SZOBA_ID": "86",
                                    "(No column name)": "5"
                                },
                                {
                                    "SZOBA_ID": "87",
                                    "(No column name)": "5"
                                },
                                {
                                    "SZOBA_ID": "88",
                                    "(No column name)": "8"
                                },
                                {
                                    "SZOBA_ID": "89",
                                    "(No column name)": "8"
                                },
                                {
                                    "SZOBA_ID": "90",
                                    "(No column name)": "4"
                                },
                                {
                                    "SZOBA_ID": "91",
                                    "(No column name)": "4"
                                },
                                {
                                    "SZOBA_ID": "92",
                                    "(No column name)": "6"
                                },
                                {
                                    "SZOBA_ID": "93",
                                    "(No column name)": "5"
                                },
                                {
                                    "SZOBA_ID": "94",
                                    "(No column name)": "10"
                                },
                                {
                                    "SZOBA_ID": "95",
                                    "(No column name)": "4"
                                },
                                {
                                    "SZOBA_ID": "96",
                                    "(No column name)": "7"
                                },
                                {
                                    "SZOBA_ID": "97",
                                    "(No column name)": "7"
                                },
                                {
                                    "SZOBA_ID": "98",
                                    "(No column name)": "4"
                                },
                                {
                                    "SZOBA_ID": "99",
                                    "(No column name)": "5"
                                },
                                {
                                    "SZOBA_ID": "100",
                                    "(No column name)": "4"
                                },
                                {
                                    "SZOBA_ID": "101",
                                    "(No column name)": "3"
                                },
                                {
                                    "SZOBA_ID": "102",
                                    "(No column name)": "2"
                                },
                                {
                                    "SZOBA_ID": "103",
                                    "(No column name)": "4"
                                },
                                {
                                    "SZOBA_ID": "104",
                                    "(No column name)": "4"
                                },
                                {
                                    "SZOBA_ID": "105",
                                    "(No column name)": "2"
                                },
                                {
                                    "SZOBA_ID": "106",
                                    "(No column name)": "6"
                                },
                                {
                                    "SZOBA_ID": "107",
                                    "(No column name)": "5"
                                },
                                {
                                    "SZOBA_ID": "108",
                                    "(No column name)": "2"
                                },
                                {
                                    "SZOBA_ID": "109",
                                    "(No column name)": "7"
                                },
                                {
                                    "SZOBA_ID": "110",
                                    "(No column name)": "8"
                                },
                                {
                                    "SZOBA_ID": "111",
                                    "(No column name)": "5"
                                },
                                {
                                    "SZOBA_ID": "112",
                                    "(No column name)": "5"
                                },
                                {
                                    "SZOBA_ID": "113",
                                    "(No column name)": "5"
                                },
                                {
                                    "SZOBA_ID": "114",
                                    "(No column name)": "4"
                                },
                                {
                                    "SZOBA_ID": "115",
                                    "(No column name)": "7"
                                },
                                {
                                    "SZOBA_ID": "116",
                                    "(No column name)": "2"
                                },
                                {
                                    "SZOBA_ID": "117",
                                    "(No column name)": "8"
                                },
                                {
                                    "SZOBA_ID": "118",
                                    "(No column name)": "7"
                                },
                                {
                                    "SZOBA_ID": "119",
                                    "(No column name)": "5"
                                },
                                {
                                    "SZOBA_ID": "120",
                                    "(No column name)": "6"
                                },
                                {
                                    "SZOBA_ID": "121",
                                    "(No column name)": "8"
                                },
                                {
                                    "SZOBA_ID": "122",
                                    "(No column name)": "9"
                                },
                                {
                                    "SZOBA_ID": "123",
                                    "(No column name)": "5"
                                },
                                {
                                    "SZOBA_ID": "124",
                                    "(No column name)": "6"
                                },
                                {
                                    "SZOBA_ID": "125",
                                    "(No column name)": "1"
                                },
                                {
                                    "SZOBA_ID": "126",
                                    "(No column name)": "6"
                                },
                                {
                                    "SZOBA_ID": "127",
                                    "(No column name)": "7"
                                },
                                {
                                    "SZOBA_ID": "128",
                                    "(No column name)": "5"
                                },
                                {
                                    "SZOBA_ID": "129",
                                    "(No column name)": "4"
                                },
                                {
                                    "SZOBA_ID": "130",
                                    "(No column name)": "6"
                                },
                                {
                                    "SZOBA_ID": "131",
                                    "(No column name)": "5"
                                },
                                {
                                    "SZOBA_ID": "132",
                                    "(No column name)": "6"
                                },
                                {
                                    "SZOBA_ID": "133",
                                    "(No column name)": "6"
                                },
                                {
                                    "SZOBA_ID": "134",
                                    "(No column name)": "6"
                                },
                                {
                                    "SZOBA_ID": "135",
                                    "(No column name)": "3"
                                },
                                {
                                    "SZOBA_ID": "136",
                                    "(No column name)": "3"
                                },
                                {
                                    "SZOBA_ID": "137",
                                    "(No column name)": "6"
                                },
                                {
                                    "SZOBA_ID": "138",
                                    "(No column name)": "7"
                                },
                                {
                                    "SZOBA_ID": "139",
                                    "(No column name)": "7"
                                },
                                {
                                    "SZOBA_ID": "140",
                                    "(No column name)": "8"
                                },
                                {
                                    "SZOBA_ID": "141",
                                    "(No column name)": "6"
                                },
                                {
                                    "SZOBA_ID": "142",
                                    "(No column name)": "2"
                                },
                                {
                                    "SZOBA_ID": "143",
                                    "(No column name)": "7"
                                },
                                {
                                    "SZOBA_ID": "144",
                                    "(No column name)": "5"
                                },
                                {
                                    "SZOBA_ID": "145",
                                    "(No column name)": "6"
                                },
                                {
                                    "SZOBA_ID": "146",
                                    "(No column name)": "6"
                                },
                                {
                                    "SZOBA_ID": "147",
                                    "(No column name)": "1"
                                },
                                {
                                    "SZOBA_ID": "148",
                                    "(No column name)": "6"
                                },
                                {
                                    "SZOBA_ID": "149",
                                    "(No column name)": "7"
                                },
                                {
                                    "SZOBA_ID": "150",
                                    "(No column name)": "6"
                                },
                                {
                                    "SZOBA_ID": "151",
                                    "(No column name)": "3"
                                },
                                {
                                    "SZOBA_ID": "152",
                                    "(No column name)": "4"
                                },
                                {
                                    "SZOBA_ID": "153",
                                    "(No column name)": "5"
                                },
                                {
                                    "SZOBA_ID": "154",
                                    "(No column name)": "5"
                                },
                                {
                                    "SZOBA_ID": "155",
                                    "(No column name)": "5"
                                },
                                {
                                    "SZOBA_ID": "156",
                                    "(No column name)": "7"
                                },
                                {
                                    "SZOBA_ID": "157",
                                    "(No column name)": "5"
                                },
                                {
                                    "SZOBA_ID": "158",
                                    "(No column name)": "3"
                                },
                                {
                                    "SZOBA_ID": "159",
                                    "(No column name)": "1"
                                },
                                {
                                    "SZOBA_ID": "160",
                                    "(No column name)": "5"
                                },
                                {
                                    "SZOBA_ID": "161",
                                    "(No column name)": "6"
                                },
                                {
                                    "SZOBA_ID": "162",
                                    "(No column name)": "3"
                                },
                                {
                                    "SZOBA_ID": "163",
                                    "(No column name)": "7"
                                },
                                {
                                    "SZOBA_ID": "164",
                                    "(No column name)": "5"
                                },
                                {
                                    "SZOBA_ID": "165",
                                    "(No column name)": "7"
                                },
                                {
                                    "SZOBA_ID": "166",
                                    "(No column name)": "3"
                                },
                                {
                                    "SZOBA_ID": "167",
                                    "(No column name)": "2"
                                },
                                {
                                    "SZOBA_ID": "168",
                                    "(No column name)": "5"
                                },
                                {
                                    "SZOBA_ID": "169",
                                    "(No column name)": "6"
                                },
                                {
                                    "SZOBA_ID": "170",
                                    "(No column name)": "5"
                                },
                                {
                                    "SZOBA_ID": "171",
                                    "(No column name)": "5"
                                },
                                {
                                    "SZOBA_ID": "172",
                                    "(No column name)": "9"
                                },
                                {
                                    "SZOBA_ID": "173",
                                    "(No column name)": "4"
                                },
                                {
                                    "SZOBA_ID": "174",
                                    "(No column name)": "4"
                                },
                                {
                                    "SZOBA_ID": "175",
                                    "(No column name)": "5"
                                },
                                {
                                    "SZOBA_ID": "176",
                                    "(No column name)": "6"
                                },
                                {
                                    "SZOBA_ID": "177",
                                    "(No column name)": "4"
                                },
                                {
                                    "SZOBA_ID": "178",
                                    "(No column name)": "4"
                                },
                                {
                                    "SZOBA_ID": "179",
                                    "(No column name)": "3"
                                },
                                {
                                    "SZOBA_ID": "180",
                                    "(No column name)": "3"
                                },
                                {
                                    "SZOBA_ID": "181",
                                    "(No column name)": "6"
                                },
                                {
                                    "SZOBA_ID": "182",
                                    "(No column name)": "12"
                                },
                                {
                                    "SZOBA_ID": "183",
                                    "(No column name)": "4"
                                },
                                {
                                    "SZOBA_ID": "184",
                                    "(No column name)": "4"
                                },
                                {
                                    "SZOBA_ID": "185",
                                    "(No column name)": "12"
                                },
                                {
                                    "SZOBA_ID": "186",
                                    "(No column name)": "4"
                                },
                                {
                                    "SZOBA_ID": "187",
                                    "(No column name)": "7"
                                },
                                {
                                    "SZOBA_ID": "188",
                                    "(No column name)": "6"
                                },
                                {
                                    "SZOBA_ID": "189",
                                    "(No column name)": "5"
                                },
                                {
                                    "SZOBA_ID": "190",
                                    "(No column name)": "5"
                                },
                                {
                                    "SZOBA_ID": "191",
                                    "(No column name)": "5"
                                },
                                {
                                    "SZOBA_ID": "192",
                                    "(No column name)": "2"
                                },
                                {
                                    "SZOBA_ID": "193",
                                    "(No column name)": "7"
                                },
                                {
                                    "SZOBA_ID": "194",
                                    "(No column name)": "1"
                                },
                                {
                                    "SZOBA_ID": "195",
                                    "(No column name)": "6"
                                },
                                {
                                    "SZOBA_ID": "196",
                                    "(No column name)": "4"
                                },
                                {
                                    "SZOBA_ID": "197",
                                    "(No column name)": "6"
                                },
                                {
                                    "SZOBA_ID": "198",
                                    "(No column name)": "8"
                                },
                                {
                                    "SZOBA_ID": "199",
                                    "(No column name)": "1"
                                },
                                {
                                    "SZOBA_ID": "200",
                                    "(No column name)": "1"
                                },
                                {
                                    "SZOBA_ID": "201",
                                    "(No column name)": "1"
                                },
                                {
                                    "SZOBA_ID": "202",
                                    "(No column name)": "1"
                                },
                                {
                                    "SZOBA_ID": "203",
                                    "(No column name)": "1"
                                },
                                {
                                    "SZOBA_ID": "204",
                                    "(No column name)": "1"
                                },
                                {
                                    "SZOBA_ID": "205",
                                    "(No column name)": "1"
                                },
                                {
                                    "SZOBA_ID": "206",
                                    "(No column name)": "1"
                                },
                                {
                                    "SZOBA_ID": "207",
                                    "(No column name)": "1"
                                },
                                {
                                    "SZOBA_ID": "208",
                                    "(No column name)": "1"
                                },
                                {
                                    "SZOBA_ID": "209",
                                    "(No column name)": "1"
                                },
                                {
                                    "SZOBA_ID": "210",
                                    "(No column name)": "1"
                                },
                                {
                                    "SZOBA_ID": "211",
                                    "(No column name)": "1"
                                },
                                {
                                    "SZOBA_ID": "212",
                                    "(No column name)": "1"
                                },
                                {
                                    "SZOBA_ID": "213",
                                    "(No column name)": "1"
                                },
                                {
                                    "SZOBA_ID": "214",
                                    "(No column name)": "1"
                                },
                                {
                                    "SZOBA_ID": "215",
                                    "(No column name)": "1"
                                },
                                {
                                    "SZOBA_ID": "216",
                                    "(No column name)": "1"
                                },
                                {
                                    "SZOBA_ID": "217",
                                    "(No column name)": "1"
                                },
                                {
                                    "SZOBA_ID": "218",
                                    "(No column name)": "1"
                                },
                                {
                                    "SZOBA_ID": "219",
                                    "(No column name)": "1"
                                },
                                {
                                    "SZOBA_ID": "220",
                                    "(No column name)": "1"
                                },
                                {
                                    "SZOBA_ID": "221",
                                    "(No column name)": "1"
                                },
                                {
                                    "SZOBA_ID": "222",
                                    "(No column name)": "1"
                                },
                                {
                                    "SZOBA_ID": "223",
                                    "(No column name)": "1"
                                },
                                {
                                    "SZOBA_ID": "224",
                                    "(No column name)": "1"
                                },
                                {
                                    "SZOBA_ID": "225",
                                    "(No column name)": "1"
                                },
                                {
                                    "SZOBA_ID": "226",
                                    "(No column name)": "1"
                                },
                                {
                                    "SZOBA_ID": "227",
                                    "(No column name)": "1"
                                },
                                {
                                    "SZOBA_ID": "228",
                                    "(No column name)": "1"
                                },
                                {
                                    "SZOBA_ID": "229",
                                    "(No column name)": "1"
                                },
                                {
                                    "SZOBA_ID": "230",
                                    "(No column name)": "1"
                                },
                                {
                                    "SZOBA_ID": "231",
                                    "(No column name)": "1"
                                },
                                {
                                    "SZOBA_ID": "232",
                                    "(No column name)": "1"
                                },
                                {
                                    "SZOBA_ID": "233",
                                    "(No column name)": "1"
                                },
                                {
                                    "SZOBA_ID": "234",
                                    "(No column name)": "1"
                                },
                                {
                                    "SZOBA_ID": "235",
                                    "(No column name)": "1"
                                },
                                {
                                    "SZOBA_ID": "236",
                                    "(No column name)": "1"
                                },
                                {
                                    "SZOBA_ID": "237",
                                    "(No column name)": "1"
                                },
                                {
                                    "SZOBA_ID": "238",
                                    "(No column name)": "1"
                                },
                                {
                                    "SZOBA_ID": "239",
                                    "(No column name)": "1"
                                },
                                {
                                    "SZOBA_ID": "240",
                                    "(No column name)": "1"
                                },
                                {
                                    "SZOBA_ID": "241",
                                    "(No column name)": "1"
                                },
                                {
                                    "SZOBA_ID": "242",
                                    "(No column name)": "1"
                                },
                                {
                                    "SZOBA_ID": "243",
                                    "(No column name)": "1"
                                },
                                {
                                    "SZOBA_ID": "244",
                                    "(No column name)": "1"
                                },
                                {
                                    "SZOBA_ID": "245",
                                    "(No column name)": "1"
                                },
                                {
                                    "SZOBA_ID": "246",
                                    "(No column name)": "1"
                                },
                                {
                                    "SZOBA_ID": "247",
                                    "(No column name)": "1"
                                },
                                {
                                    "SZOBA_ID": "248",
                                    "(No column name)": "1"
                                },
                                {
                                    "SZOBA_ID": "249",
                                    "(No column name)": "1"
                                },
                                {
                                    "SZOBA_ID": "250",
                                    "(No column name)": "1"
                                },
                                {
                                    "SZOBA_ID": "251",
                                    "(No column name)": "1"
                                },
                                {
                                    "SZOBA_ID": "252",
                                    "(No column name)": "1"
                                },
                                {
                                    "SZOBA_ID": "253",
                                    "(No column name)": "1"
                                },
                                {
                                    "SZOBA_ID": "254",
                                    "(No column name)": "1"
                                },
                                {
                                    "SZOBA_ID": "255",
                                    "(No column name)": "1"
                                },
                                {
                                    "SZOBA_ID": "256",
                                    "(No column name)": "1"
                                },
                                {
                                    "SZOBA_ID": "257",
                                    "(No column name)": "1"
                                },
                                {
                                    "SZOBA_ID": "258",
                                    "(No column name)": "1"
                                },
                                {
                                    "SZOBA_ID": "259",
                                    "(No column name)": "1"
                                },
                                {
                                    "SZOBA_ID": "260",
                                    "(No column name)": "1"
                                },
                                {
                                    "SZOBA_ID": "261",
                                    "(No column name)": "1"
                                },
                                {
                                    "SZOBA_ID": "262",
                                    "(No column name)": "1"
                                },
                                {
                                    "SZOBA_ID": "263",
                                    "(No column name)": "1"
                                },
                                {
                                    "SZOBA_ID": "264",
                                    "(No column name)": "1"
                                },
                                {
                                    "SZOBA_ID": "265",
                                    "(No column name)": "1"
                                },
                                {
                                    "SZOBA_ID": "266",
                                    "(No column name)": "1"
                                },
                                {
                                    "SZOBA_ID": "267",
                                    "(No column name)": "1"
                                },
                                {
                                    "SZOBA_ID": "268",
                                    "(No column name)": "1"
                                },
                                {
                                    "SZOBA_ID": "269",
                                    "(No column name)": "1"
                                },
                                {
                                    "SZOBA_ID": "270",
                                    "(No column name)": "1"
                                },
                                {
                                    "SZOBA_ID": "271",
                                    "(No column name)": "1"
                                },
                                {
                                    "SZOBA_ID": "272",
                                    "(No column name)": "1"
                                },
                                {
                                    "SZOBA_ID": "273",
                                    "(No column name)": "1"
                                },
                                {
                                    "SZOBA_ID": "274",
                                    "(No column name)": "1"
                                },
                                {
                                    "SZOBA_ID": "275",
                                    "(No column name)": "1"
                                },
                                {
                                    "SZOBA_ID": "276",
                                    "(No column name)": "1"
                                },
                                {
                                    "SZOBA_ID": "277",
                                    "(No column name)": "1"
                                },
                                {
                                    "SZOBA_ID": "278",
                                    "(No column name)": "1"
                                },
                                {
                                    "SZOBA_ID": "279",
                                    "(No column name)": "1"
                                },
                                {
                                    "SZOBA_ID": "280",
                                    "(No column name)": "1"
                                },
                                {
                                    "SZOBA_ID": "281",
                                    "(No column name)": "1"
                                },
                                {
                                    "SZOBA_ID": "282",
                                    "(No column name)": "1"
                                },
                                {
                                    "SZOBA_ID": "283",
                                    "(No column name)": "1"
                                },
                                {
                                    "SZOBA_ID": "284",
                                    "(No column name)": "1"
                                },
                                {
                                    "SZOBA_ID": "285",
                                    "(No column name)": "1"
                                },
                                {
                                    "SZOBA_ID": "286",
                                    "(No column name)": "1"
                                },
                                {
                                    "SZOBA_ID": "287",
                                    "(No column name)": "1"
                                },
                                {
                                    "SZOBA_ID": "288",
                                    "(No column name)": "1"
                                },
                                {
                                    "SZOBA_ID": "289",
                                    "(No column name)": "1"
                                },
                                {
                                    "SZOBA_ID": "290",
                                    "(No column name)": "1"
                                },
                                {
                                    "SZOBA_ID": "291",
                                    "(No column name)": "1"
                                },
                                {
                                    "SZOBA_ID": "292",
                                    "(No column name)": "1"
                                },
                                {
                                    "SZOBA_ID": "293",
                                    "(No column name)": "1"
                                },
                                {
                                    "SZOBA_ID": "294",
                                    "(No column name)": "1"
                                }
                            ]
                        },
                        "text/html": [
                            "<table>",
                            "<tr><th>SZOBA_ID</th><th>(No column name)</th></tr>",
                            "<tr><td>1</td><td>8</td></tr>",
                            "<tr><td>2</td><td>4</td></tr>",
                            "<tr><td>3</td><td>8</td></tr>",
                            "<tr><td>4</td><td>6</td></tr>",
                            "<tr><td>5</td><td>4</td></tr>",
                            "<tr><td>6</td><td>6</td></tr>",
                            "<tr><td>7</td><td>6</td></tr>",
                            "<tr><td>8</td><td>5</td></tr>",
                            "<tr><td>9</td><td>6</td></tr>",
                            "<tr><td>10</td><td>4</td></tr>",
                            "<tr><td>11</td><td>4</td></tr>",
                            "<tr><td>12</td><td>9</td></tr>",
                            "<tr><td>13</td><td>4</td></tr>",
                            "<tr><td>14</td><td>3</td></tr>",
                            "<tr><td>15</td><td>6</td></tr>",
                            "<tr><td>16</td><td>5</td></tr>",
                            "<tr><td>17</td><td>6</td></tr>",
                            "<tr><td>18</td><td>6</td></tr>",
                            "<tr><td>19</td><td>6</td></tr>",
                            "<tr><td>20</td><td>5</td></tr>",
                            "<tr><td>21</td><td>4</td></tr>",
                            "<tr><td>22</td><td>6</td></tr>",
                            "<tr><td>23</td><td>3</td></tr>",
                            "<tr><td>24</td><td>3</td></tr>",
                            "<tr><td>25</td><td>2</td></tr>",
                            "<tr><td>26</td><td>2</td></tr>",
                            "<tr><td>27</td><td>7</td></tr>",
                            "<tr><td>28</td><td>6</td></tr>",
                            "<tr><td>29</td><td>6</td></tr>",
                            "<tr><td>30</td><td>3</td></tr>",
                            "<tr><td>31</td><td>3</td></tr>",
                            "<tr><td>32</td><td>1</td></tr>",
                            "<tr><td>33</td><td>6</td></tr>",
                            "<tr><td>34</td><td>4</td></tr>",
                            "<tr><td>35</td><td>9</td></tr>",
                            "<tr><td>36</td><td>6</td></tr>",
                            "<tr><td>37</td><td>3</td></tr>",
                            "<tr><td>38</td><td>8</td></tr>",
                            "<tr><td>39</td><td>7</td></tr>",
                            "<tr><td>40</td><td>4</td></tr>",
                            "<tr><td>41</td><td>2</td></tr>",
                            "<tr><td>42</td><td>6</td></tr>",
                            "<tr><td>43</td><td>8</td></tr>",
                            "<tr><td>44</td><td>6</td></tr>",
                            "<tr><td>45</td><td>5</td></tr>",
                            "<tr><td>46</td><td>4</td></tr>",
                            "<tr><td>47</td><td>2</td></tr>",
                            "<tr><td>48</td><td>9</td></tr>",
                            "<tr><td>49</td><td>7</td></tr>",
                            "<tr><td>50</td><td>4</td></tr>",
                            "<tr><td>51</td><td>5</td></tr>",
                            "<tr><td>52</td><td>5</td></tr>",
                            "<tr><td>53</td><td>2</td></tr>",
                            "<tr><td>54</td><td>6</td></tr>",
                            "<tr><td>55</td><td>8</td></tr>",
                            "<tr><td>56</td><td>2</td></tr>",
                            "<tr><td>57</td><td>4</td></tr>",
                            "<tr><td>58</td><td>13</td></tr>",
                            "<tr><td>59</td><td>7</td></tr>",
                            "<tr><td>60</td><td>1</td></tr>",
                            "<tr><td>61</td><td>5</td></tr>",
                            "<tr><td>62</td><td>5</td></tr>",
                            "<tr><td>63</td><td>4</td></tr>",
                            "<tr><td>64</td><td>6</td></tr>",
                            "<tr><td>65</td><td>1</td></tr>",
                            "<tr><td>66</td><td>4</td></tr>",
                            "<tr><td>67</td><td>6</td></tr>",
                            "<tr><td>68</td><td>3</td></tr>",
                            "<tr><td>69</td><td>4</td></tr>",
                            "<tr><td>70</td><td>11</td></tr>",
                            "<tr><td>71</td><td>3</td></tr>",
                            "<tr><td>72</td><td>4</td></tr>",
                            "<tr><td>73</td><td>4</td></tr>",
                            "<tr><td>74</td><td>9</td></tr>",
                            "<tr><td>75</td><td>3</td></tr>",
                            "<tr><td>76</td><td>3</td></tr>",
                            "<tr><td>77</td><td>6</td></tr>",
                            "<tr><td>78</td><td>6</td></tr>",
                            "<tr><td>79</td><td>5</td></tr>",
                            "<tr><td>80</td><td>7</td></tr>",
                            "<tr><td>81</td><td>5</td></tr>",
                            "<tr><td>82</td><td>6</td></tr>",
                            "<tr><td>83</td><td>8</td></tr>",
                            "<tr><td>84</td><td>4</td></tr>",
                            "<tr><td>85</td><td>4</td></tr>",
                            "<tr><td>86</td><td>5</td></tr>",
                            "<tr><td>87</td><td>5</td></tr>",
                            "<tr><td>88</td><td>8</td></tr>",
                            "<tr><td>89</td><td>8</td></tr>",
                            "<tr><td>90</td><td>4</td></tr>",
                            "<tr><td>91</td><td>4</td></tr>",
                            "<tr><td>92</td><td>6</td></tr>",
                            "<tr><td>93</td><td>5</td></tr>",
                            "<tr><td>94</td><td>10</td></tr>",
                            "<tr><td>95</td><td>4</td></tr>",
                            "<tr><td>96</td><td>7</td></tr>",
                            "<tr><td>97</td><td>7</td></tr>",
                            "<tr><td>98</td><td>4</td></tr>",
                            "<tr><td>99</td><td>5</td></tr>",
                            "<tr><td>100</td><td>4</td></tr>",
                            "<tr><td>101</td><td>3</td></tr>",
                            "<tr><td>102</td><td>2</td></tr>",
                            "<tr><td>103</td><td>4</td></tr>",
                            "<tr><td>104</td><td>4</td></tr>",
                            "<tr><td>105</td><td>2</td></tr>",
                            "<tr><td>106</td><td>6</td></tr>",
                            "<tr><td>107</td><td>5</td></tr>",
                            "<tr><td>108</td><td>2</td></tr>",
                            "<tr><td>109</td><td>7</td></tr>",
                            "<tr><td>110</td><td>8</td></tr>",
                            "<tr><td>111</td><td>5</td></tr>",
                            "<tr><td>112</td><td>5</td></tr>",
                            "<tr><td>113</td><td>5</td></tr>",
                            "<tr><td>114</td><td>4</td></tr>",
                            "<tr><td>115</td><td>7</td></tr>",
                            "<tr><td>116</td><td>2</td></tr>",
                            "<tr><td>117</td><td>8</td></tr>",
                            "<tr><td>118</td><td>7</td></tr>",
                            "<tr><td>119</td><td>5</td></tr>",
                            "<tr><td>120</td><td>6</td></tr>",
                            "<tr><td>121</td><td>8</td></tr>",
                            "<tr><td>122</td><td>9</td></tr>",
                            "<tr><td>123</td><td>5</td></tr>",
                            "<tr><td>124</td><td>6</td></tr>",
                            "<tr><td>125</td><td>1</td></tr>",
                            "<tr><td>126</td><td>6</td></tr>",
                            "<tr><td>127</td><td>7</td></tr>",
                            "<tr><td>128</td><td>5</td></tr>",
                            "<tr><td>129</td><td>4</td></tr>",
                            "<tr><td>130</td><td>6</td></tr>",
                            "<tr><td>131</td><td>5</td></tr>",
                            "<tr><td>132</td><td>6</td></tr>",
                            "<tr><td>133</td><td>6</td></tr>",
                            "<tr><td>134</td><td>6</td></tr>",
                            "<tr><td>135</td><td>3</td></tr>",
                            "<tr><td>136</td><td>3</td></tr>",
                            "<tr><td>137</td><td>6</td></tr>",
                            "<tr><td>138</td><td>7</td></tr>",
                            "<tr><td>139</td><td>7</td></tr>",
                            "<tr><td>140</td><td>8</td></tr>",
                            "<tr><td>141</td><td>6</td></tr>",
                            "<tr><td>142</td><td>2</td></tr>",
                            "<tr><td>143</td><td>7</td></tr>",
                            "<tr><td>144</td><td>5</td></tr>",
                            "<tr><td>145</td><td>6</td></tr>",
                            "<tr><td>146</td><td>6</td></tr>",
                            "<tr><td>147</td><td>1</td></tr>",
                            "<tr><td>148</td><td>6</td></tr>",
                            "<tr><td>149</td><td>7</td></tr>",
                            "<tr><td>150</td><td>6</td></tr>",
                            "<tr><td>151</td><td>3</td></tr>",
                            "<tr><td>152</td><td>4</td></tr>",
                            "<tr><td>153</td><td>5</td></tr>",
                            "<tr><td>154</td><td>5</td></tr>",
                            "<tr><td>155</td><td>5</td></tr>",
                            "<tr><td>156</td><td>7</td></tr>",
                            "<tr><td>157</td><td>5</td></tr>",
                            "<tr><td>158</td><td>3</td></tr>",
                            "<tr><td>159</td><td>1</td></tr>",
                            "<tr><td>160</td><td>5</td></tr>",
                            "<tr><td>161</td><td>6</td></tr>",
                            "<tr><td>162</td><td>3</td></tr>",
                            "<tr><td>163</td><td>7</td></tr>",
                            "<tr><td>164</td><td>5</td></tr>",
                            "<tr><td>165</td><td>7</td></tr>",
                            "<tr><td>166</td><td>3</td></tr>",
                            "<tr><td>167</td><td>2</td></tr>",
                            "<tr><td>168</td><td>5</td></tr>",
                            "<tr><td>169</td><td>6</td></tr>",
                            "<tr><td>170</td><td>5</td></tr>",
                            "<tr><td>171</td><td>5</td></tr>",
                            "<tr><td>172</td><td>9</td></tr>",
                            "<tr><td>173</td><td>4</td></tr>",
                            "<tr><td>174</td><td>4</td></tr>",
                            "<tr><td>175</td><td>5</td></tr>",
                            "<tr><td>176</td><td>6</td></tr>",
                            "<tr><td>177</td><td>4</td></tr>",
                            "<tr><td>178</td><td>4</td></tr>",
                            "<tr><td>179</td><td>3</td></tr>",
                            "<tr><td>180</td><td>3</td></tr>",
                            "<tr><td>181</td><td>6</td></tr>",
                            "<tr><td>182</td><td>12</td></tr>",
                            "<tr><td>183</td><td>4</td></tr>",
                            "<tr><td>184</td><td>4</td></tr>",
                            "<tr><td>185</td><td>12</td></tr>",
                            "<tr><td>186</td><td>4</td></tr>",
                            "<tr><td>187</td><td>7</td></tr>",
                            "<tr><td>188</td><td>6</td></tr>",
                            "<tr><td>189</td><td>5</td></tr>",
                            "<tr><td>190</td><td>5</td></tr>",
                            "<tr><td>191</td><td>5</td></tr>",
                            "<tr><td>192</td><td>2</td></tr>",
                            "<tr><td>193</td><td>7</td></tr>",
                            "<tr><td>194</td><td>1</td></tr>",
                            "<tr><td>195</td><td>6</td></tr>",
                            "<tr><td>196</td><td>4</td></tr>",
                            "<tr><td>197</td><td>6</td></tr>",
                            "<tr><td>198</td><td>8</td></tr>",
                            "<tr><td>199</td><td>1</td></tr>",
                            "<tr><td>200</td><td>1</td></tr>",
                            "<tr><td>201</td><td>1</td></tr>",
                            "<tr><td>202</td><td>1</td></tr>",
                            "<tr><td>203</td><td>1</td></tr>",
                            "<tr><td>204</td><td>1</td></tr>",
                            "<tr><td>205</td><td>1</td></tr>",
                            "<tr><td>206</td><td>1</td></tr>",
                            "<tr><td>207</td><td>1</td></tr>",
                            "<tr><td>208</td><td>1</td></tr>",
                            "<tr><td>209</td><td>1</td></tr>",
                            "<tr><td>210</td><td>1</td></tr>",
                            "<tr><td>211</td><td>1</td></tr>",
                            "<tr><td>212</td><td>1</td></tr>",
                            "<tr><td>213</td><td>1</td></tr>",
                            "<tr><td>214</td><td>1</td></tr>",
                            "<tr><td>215</td><td>1</td></tr>",
                            "<tr><td>216</td><td>1</td></tr>",
                            "<tr><td>217</td><td>1</td></tr>",
                            "<tr><td>218</td><td>1</td></tr>",
                            "<tr><td>219</td><td>1</td></tr>",
                            "<tr><td>220</td><td>1</td></tr>",
                            "<tr><td>221</td><td>1</td></tr>",
                            "<tr><td>222</td><td>1</td></tr>",
                            "<tr><td>223</td><td>1</td></tr>",
                            "<tr><td>224</td><td>1</td></tr>",
                            "<tr><td>225</td><td>1</td></tr>",
                            "<tr><td>226</td><td>1</td></tr>",
                            "<tr><td>227</td><td>1</td></tr>",
                            "<tr><td>228</td><td>1</td></tr>",
                            "<tr><td>229</td><td>1</td></tr>",
                            "<tr><td>230</td><td>1</td></tr>",
                            "<tr><td>231</td><td>1</td></tr>",
                            "<tr><td>232</td><td>1</td></tr>",
                            "<tr><td>233</td><td>1</td></tr>",
                            "<tr><td>234</td><td>1</td></tr>",
                            "<tr><td>235</td><td>1</td></tr>",
                            "<tr><td>236</td><td>1</td></tr>",
                            "<tr><td>237</td><td>1</td></tr>",
                            "<tr><td>238</td><td>1</td></tr>",
                            "<tr><td>239</td><td>1</td></tr>",
                            "<tr><td>240</td><td>1</td></tr>",
                            "<tr><td>241</td><td>1</td></tr>",
                            "<tr><td>242</td><td>1</td></tr>",
                            "<tr><td>243</td><td>1</td></tr>",
                            "<tr><td>244</td><td>1</td></tr>",
                            "<tr><td>245</td><td>1</td></tr>",
                            "<tr><td>246</td><td>1</td></tr>",
                            "<tr><td>247</td><td>1</td></tr>",
                            "<tr><td>248</td><td>1</td></tr>",
                            "<tr><td>249</td><td>1</td></tr>",
                            "<tr><td>250</td><td>1</td></tr>",
                            "<tr><td>251</td><td>1</td></tr>",
                            "<tr><td>252</td><td>1</td></tr>",
                            "<tr><td>253</td><td>1</td></tr>",
                            "<tr><td>254</td><td>1</td></tr>",
                            "<tr><td>255</td><td>1</td></tr>",
                            "<tr><td>256</td><td>1</td></tr>",
                            "<tr><td>257</td><td>1</td></tr>",
                            "<tr><td>258</td><td>1</td></tr>",
                            "<tr><td>259</td><td>1</td></tr>",
                            "<tr><td>260</td><td>1</td></tr>",
                            "<tr><td>261</td><td>1</td></tr>",
                            "<tr><td>262</td><td>1</td></tr>",
                            "<tr><td>263</td><td>1</td></tr>",
                            "<tr><td>264</td><td>1</td></tr>",
                            "<tr><td>265</td><td>1</td></tr>",
                            "<tr><td>266</td><td>1</td></tr>",
                            "<tr><td>267</td><td>1</td></tr>",
                            "<tr><td>268</td><td>1</td></tr>",
                            "<tr><td>269</td><td>1</td></tr>",
                            "<tr><td>270</td><td>1</td></tr>",
                            "<tr><td>271</td><td>1</td></tr>",
                            "<tr><td>272</td><td>1</td></tr>",
                            "<tr><td>273</td><td>1</td></tr>",
                            "<tr><td>274</td><td>1</td></tr>",
                            "<tr><td>275</td><td>1</td></tr>",
                            "<tr><td>276</td><td>1</td></tr>",
                            "<tr><td>277</td><td>1</td></tr>",
                            "<tr><td>278</td><td>1</td></tr>",
                            "<tr><td>279</td><td>1</td></tr>",
                            "<tr><td>280</td><td>1</td></tr>",
                            "<tr><td>281</td><td>1</td></tr>",
                            "<tr><td>282</td><td>1</td></tr>",
                            "<tr><td>283</td><td>1</td></tr>",
                            "<tr><td>284</td><td>1</td></tr>",
                            "<tr><td>285</td><td>1</td></tr>",
                            "<tr><td>286</td><td>1</td></tr>",
                            "<tr><td>287</td><td>1</td></tr>",
                            "<tr><td>288</td><td>1</td></tr>",
                            "<tr><td>289</td><td>1</td></tr>",
                            "<tr><td>290</td><td>1</td></tr>",
                            "<tr><td>291</td><td>1</td></tr>",
                            "<tr><td>292</td><td>1</td></tr>",
                            "<tr><td>293</td><td>1</td></tr>",
                            "<tr><td>294</td><td>1</td></tr>",
                            "</table>"
                        ]
                    }
                }
            ],
            "execution_count": 46
        },
        {
            "cell_type": "markdown",
            "source": [
                "<span style=\"color: rgb(0, 0, 0); font-family: &quot;Open Sans&quot;, sans-serif; font-size: 14.44px; background-color: rgb(255, 255, 255);\">Listázzuk azon szálláshelyek azonosítóját és nevét, amelyek a saját helyükön (HELY) a legtöbb csillaggal rendelkeznek!</span>"
            ],
            "metadata": {
                "azdata_cell_guid": "b1ade1ed-ff41-41a5-aa93-3a327adecc37"
            },
            "attachments": {}
        },
        {
            "cell_type": "code",
            "source": [
                "select szallas_id, szallas_nev,  max(CSILLAGOK_SZAMA) over (partition by hely order by CSILLAGOK_SZAMA)\r\n",
                "from Szallashely\r\n",
                ""
            ],
            "metadata": {
                "azdata_cell_guid": "6de2702a-9ff6-4563-8faa-55be36c7577c",
                "language": "sql"
            },
            "outputs": [
                {
                    "output_type": "display_data",
                    "data": {
                        "text/html": "(21 rows affected)"
                    },
                    "metadata": {}
                },
                {
                    "output_type": "display_data",
                    "data": {
                        "text/html": "Total execution time: 00:00:00.006"
                    },
                    "metadata": {}
                },
                {
                    "output_type": "execute_result",
                    "metadata": {},
                    "execution_count": 50,
                    "data": {
                        "application/vnd.dataresource+json": {
                            "schema": {
                                "fields": [
                                    {
                                        "name": "szallas_id"
                                    },
                                    {
                                        "name": "szallas_nev"
                                    },
                                    {
                                        "name": "hely"
                                    },
                                    {
                                        "name": "(No column name)"
                                    }
                                ]
                            },
                            "data": [
                                {
                                    "szallas_id": "1",
                                    "szallas_nev": "Sába-Ház",
                                    "hely": "Balaton-dél",
                                    "(No column name)": "0"
                                },
                                {
                                    "szallas_id": "2",
                                    "szallas_nev": "Családi Ház",
                                    "hely": "Balaton-dél",
                                    "(No column name)": "0"
                                },
                                {
                                    "szallas_id": "7",
                                    "szallas_nev": "Szieszta Apartmanház",
                                    "hely": "Balaton-dél",
                                    "(No column name)": "0"
                                },
                                {
                                    "szallas_id": "9",
                                    "szallas_nev": "Jáde panzió",
                                    "hely": "Balaton-dél",
                                    "(No column name)": "3"
                                },
                                {
                                    "szallas_id": "6",
                                    "szallas_nev": "Kentaur Hotel",
                                    "hely": "Balaton-dél",
                                    "(No column name)": "3"
                                },
                                {
                                    "szallas_id": "15",
                                    "szallas_nev": "Tímárház Panzió",
                                    "hely": "Balaton-dél",
                                    "(No column name)": "3"
                                },
                                {
                                    "szallas_id": "8",
                                    "szallas_nev": "Hotel Három Hattyú",
                                    "hely": "Balaton-dél",
                                    "(No column name)": "4"
                                },
                                {
                                    "szallas_id": "11",
                                    "szallas_nev": "Partiszél Vendégház",
                                    "hely": "Balaton-észak",
                                    "(No column name)": "0"
                                },
                                {
                                    "szallas_id": "5",
                                    "szallas_nev": "Fortuna Panzió",
                                    "hely": "Békés megye",
                                    "(No column name)": "3"
                                },
                                {
                                    "szallas_id": "20",
                                    "szallas_nev": "Kollégium",
                                    "hely": "Budapest",
                                    "(No column name)": "0"
                                },
                                {
                                    "szallas_id": "4",
                                    "szallas_nev": "Fortuna panzió",
                                    "hely": "Budapest",
                                    "(No column name)": "3"
                                },
                                {
                                    "szallas_id": "12",
                                    "szallas_nev": "Gold Hotel",
                                    "hely": "Budapest",
                                    "(No column name)": "3"
                                },
                                {
                                    "szallas_id": "10",
                                    "szallas_nev": "Lagúna Hotel",
                                    "hely": "Budapest",
                                    "(No column name)": "4"
                                },
                                {
                                    "szallas_id": "14",
                                    "szallas_nev": "Nyárfás Vendégház",
                                    "hely": "Csongrád megye",
                                    "(No column name)": "0"
                                },
                                {
                                    "szallas_id": "13",
                                    "szallas_nev": "Riviéra Panzió",
                                    "hely": "Csongrád megye",
                                    "(No column name)": "3"
                                },
                                {
                                    "szallas_id": "18",
                                    "szallas_nev": "Fortuna Apartman",
                                    "hely": "Dél-Somogy",
                                    "(No column name)": "0"
                                },
                                {
                                    "szallas_id": "19",
                                    "szallas_nev": "Nyárfás Vendégház",
                                    "hely": "Dél-Somogy",
                                    "(No column name)": "0"
                                },
                                {
                                    "szallas_id": "21",
                                    "szallas_nev": "Müller Vendégház",
                                    "hely": "Dél-Somogy",
                                    "(No column name)": "0"
                                },
                                {
                                    "szallas_id": "3",
                                    "szallas_nev": "Fortuna Apartman",
                                    "hely": "Hajdúbihar megye",
                                    "(No column name)": "0"
                                },
                                {
                                    "szallas_id": "16",
                                    "szallas_nev": "Bagoly Hotel",
                                    "hely": "Pest megye",
                                    "(No column name)": "3"
                                },
                                {
                                    "szallas_id": "17",
                                    "szallas_nev": "Szarvas Hotel",
                                    "hely": "Tolna megye",
                                    "(No column name)": "4"
                                }
                            ]
                        },
                        "text/html": [
                            "<table>",
                            "<tr><th>szallas_id</th><th>szallas_nev</th><th>hely</th><th>(No column name)</th></tr>",
                            "<tr><td>1</td><td>Sába-Ház</td><td>Balaton-dél</td><td>0</td></tr>",
                            "<tr><td>2</td><td>Családi Ház</td><td>Balaton-dél</td><td>0</td></tr>",
                            "<tr><td>7</td><td>Szieszta Apartmanház</td><td>Balaton-dél</td><td>0</td></tr>",
                            "<tr><td>9</td><td>Jáde panzió</td><td>Balaton-dél</td><td>3</td></tr>",
                            "<tr><td>6</td><td>Kentaur Hotel</td><td>Balaton-dél</td><td>3</td></tr>",
                            "<tr><td>15</td><td>Tímárház Panzió</td><td>Balaton-dél</td><td>3</td></tr>",
                            "<tr><td>8</td><td>Hotel Három Hattyú</td><td>Balaton-dél</td><td>4</td></tr>",
                            "<tr><td>11</td><td>Partiszél Vendégház</td><td>Balaton-észak</td><td>0</td></tr>",
                            "<tr><td>5</td><td>Fortuna Panzió</td><td>Békés megye</td><td>3</td></tr>",
                            "<tr><td>20</td><td>Kollégium</td><td>Budapest</td><td>0</td></tr>",
                            "<tr><td>4</td><td>Fortuna panzió</td><td>Budapest</td><td>3</td></tr>",
                            "<tr><td>12</td><td>Gold Hotel</td><td>Budapest</td><td>3</td></tr>",
                            "<tr><td>10</td><td>Lagúna Hotel</td><td>Budapest</td><td>4</td></tr>",
                            "<tr><td>14</td><td>Nyárfás Vendégház</td><td>Csongrád megye</td><td>0</td></tr>",
                            "<tr><td>13</td><td>Riviéra Panzió</td><td>Csongrád megye</td><td>3</td></tr>",
                            "<tr><td>18</td><td>Fortuna Apartman</td><td>Dél-Somogy</td><td>0</td></tr>",
                            "<tr><td>19</td><td>Nyárfás Vendégház</td><td>Dél-Somogy</td><td>0</td></tr>",
                            "<tr><td>21</td><td>Müller Vendégház</td><td>Dél-Somogy</td><td>0</td></tr>",
                            "<tr><td>3</td><td>Fortuna Apartman</td><td>Hajdúbihar megye</td><td>0</td></tr>",
                            "<tr><td>16</td><td>Bagoly Hotel</td><td>Pest megye</td><td>3</td></tr>",
                            "<tr><td>17</td><td>Szarvas Hotel</td><td>Tolna megye</td><td>4</td></tr>",
                            "</table>"
                        ]
                    }
                }
            ],
            "execution_count": 50
        },
        {
            "cell_type": "markdown",
            "source": [
                "Készítsen lekérdezést, amely sorszámozza a vendégeket a foglalások száma alapján\n",
                "\n",
                "- A sorszám mellett jelenjen meg a vendég azonosítója, neve és a foglalások száma is\n",
                "- A legtöbbet foglaló vendég kapja az egyes sorszámot\n",
                "- Holtverseny esetén a számozás annyit ugorjon, ahány egyforma érték van"
            ],
            "metadata": {
                "azdata_cell_guid": "ccf0cb65-34a1-4607-9c11-fea5c882ab22"
            },
            "attachments": {}
        },
        {
            "cell_type": "code",
            "source": [
                "select usernev, nev, count(foglalas_pk) over (partition by usernev), row_number() over (partition by usernev order by count(foglalas_pk))\r\n",
                "from Vendeg v join Foglalas f on v.USERNEV=f.UGYFEL_FK"
            ],
            "metadata": {
                "azdata_cell_guid": "9f23969a-1b56-404a-aefe-657d9b84428a",
                "language": "sql"
            },
            "outputs": [
                {
                    "output_type": "error",
                    "evalue": "Msg 8120, Level 16, State 1, Line 1\r\nColumn 'Vendeg.USERNEV' is invalid in the select list because it is not contained in either an aggregate function or the GROUP BY clause.",
                    "ename": "",
                    "traceback": []
                },
                {
                    "output_type": "display_data",
                    "data": {
                        "text/html": "Total execution time: 00:00:00.001"
                    },
                    "metadata": {}
                }
            ],
            "execution_count": 53
        },
        {
            "cell_type": "markdown",
            "source": [
                "Készítsen lekérdezést, amely megjeleníti, hogy szálláshelyenként, azon belül a pótágyak száma szerint hány főre foglaltak összesen (felnőtt + gyermek)!\n",
                "\n",
                "- Jelenjenek meg a részösszegek és a végösszeg is!"
            ],
            "metadata": {
                "azdata_cell_guid": "0f71ed80-1335-4245-b692-ea7252817d4c"
            },
            "attachments": {}
        },
        {
            "cell_type": "markdown",
            "source": [
                ""
            ],
            "metadata": {
                "azdata_cell_guid": "aa645e29-d8b2-40e5-9f56-aed1a42efbcc"
            }
        },
        {
            "cell_type": "code",
            "source": [
                "select iif(grouping(szallas_fk)=1, 'Összesen', cast(szallas_fk as NVARCHAR(10))) as 'Szállás',\r\n",
                "        case grouping_id(szallas_fk, potagy)\r\n",
                "        when 0 then cast(potagy as nvarchar(10))\r\n",
                "        when 1 then 'Részösszeg'\r\n",
                "        else 'Összesen'\r\n",
                "        end as 'Pótágy',  sum(felnott_szam+gyermek_szam)\r\n",
                "from Szoba sz join Foglalas f on sz.SZOBA_ID=f.SZOBA_FK\r\n",
                "group by rollup(szallas_fk, POTAGY)"
            ],
            "metadata": {
                "azdata_cell_guid": "07675ada-aff9-48b9-a3b2-0e437a6c1958",
                "language": "sql"
            },
            "outputs": [
                {
                    "output_type": "display_data",
                    "data": {
                        "text/html": "(44 rows affected)"
                    },
                    "metadata": {}
                },
                {
                    "output_type": "display_data",
                    "data": {
                        "text/html": "Total execution time: 00:00:00.015"
                    },
                    "metadata": {}
                },
                {
                    "output_type": "execute_result",
                    "metadata": {},
                    "execution_count": 33,
                    "data": {
                        "application/vnd.dataresource+json": {
                            "schema": {
                                "fields": [
                                    {
                                        "name": "Szállás"
                                    },
                                    {
                                        "name": "Pótágy"
                                    },
                                    {
                                        "name": "(No column name)"
                                    }
                                ]
                            },
                            "data": [
                                {
                                    "Szállás": "1",
                                    "Pótágy": "0",
                                    "(No column name)": "67"
                                },
                                {
                                    "Szállás": "1",
                                    "Pótágy": "1",
                                    "(No column name)": "99"
                                },
                                {
                                    "Szállás": "1",
                                    "Pótágy": "Részösszeg",
                                    "(No column name)": "166"
                                },
                                {
                                    "Szállás": "2",
                                    "Pótágy": "0",
                                    "(No column name)": "10"
                                },
                                {
                                    "Szállás": "2",
                                    "Pótágy": "1",
                                    "(No column name)": "31"
                                },
                                {
                                    "Szállás": "2",
                                    "Pótágy": "2",
                                    "(No column name)": "11"
                                },
                                {
                                    "Szállás": "2",
                                    "Pótágy": "Részösszeg",
                                    "(No column name)": "52"
                                },
                                {
                                    "Szállás": "3",
                                    "Pótágy": "0",
                                    "(No column name)": "18"
                                },
                                {
                                    "Szállás": "3",
                                    "Pótágy": "1",
                                    "(No column name)": "52"
                                },
                                {
                                    "Szállás": "3",
                                    "Pótágy": "2",
                                    "(No column name)": "36"
                                },
                                {
                                    "Szállás": "3",
                                    "Pótágy": "Részösszeg",
                                    "(No column name)": "106"
                                },
                                {
                                    "Szállás": "4",
                                    "Pótágy": "0",
                                    "(No column name)": "45"
                                },
                                {
                                    "Szállás": "4",
                                    "Pótágy": "1",
                                    "(No column name)": "99"
                                },
                                {
                                    "Szállás": "4",
                                    "Pótágy": "2",
                                    "(No column name)": "40"
                                },
                                {
                                    "Szállás": "4",
                                    "Pótágy": "Részösszeg",
                                    "(No column name)": "184"
                                },
                                {
                                    "Szállás": "5",
                                    "Pótágy": "0",
                                    "(No column name)": "113"
                                },
                                {
                                    "Szállás": "5",
                                    "Pótágy": "1",
                                    "(No column name)": "14"
                                },
                                {
                                    "Szállás": "5",
                                    "Pótágy": "Részösszeg",
                                    "(No column name)": "127"
                                },
                                {
                                    "Szállás": "6",
                                    "Pótágy": "0",
                                    "(No column name)": "168"
                                },
                                {
                                    "Szállás": "6",
                                    "Pótágy": "1",
                                    "(No column name)": "224"
                                },
                                {
                                    "Szállás": "6",
                                    "Pótágy": "2",
                                    "(No column name)": "28"
                                },
                                {
                                    "Szállás": "6",
                                    "Pótágy": "Részösszeg",
                                    "(No column name)": "420"
                                },
                                {
                                    "Szállás": "7",
                                    "Pótágy": "0",
                                    "(No column name)": "64"
                                },
                                {
                                    "Szállás": "7",
                                    "Pótágy": "1",
                                    "(No column name)": "19"
                                },
                                {
                                    "Szállás": "7",
                                    "Pótágy": "Részösszeg",
                                    "(No column name)": "83"
                                },
                                {
                                    "Szállás": "8",
                                    "Pótágy": "0",
                                    "(No column name)": "183"
                                },
                                {
                                    "Szállás": "8",
                                    "Pótágy": "1",
                                    "(No column name)": "258"
                                },
                                {
                                    "Szállás": "8",
                                    "Pótágy": "2",
                                    "(No column name)": "63"
                                },
                                {
                                    "Szállás": "8",
                                    "Pótágy": "Részösszeg",
                                    "(No column name)": "504"
                                },
                                {
                                    "Szállás": "9",
                                    "Pótágy": "0",
                                    "(No column name)": "66"
                                },
                                {
                                    "Szállás": "9",
                                    "Pótágy": "Részösszeg",
                                    "(No column name)": "66"
                                },
                                {
                                    "Szállás": "10",
                                    "Pótágy": "0",
                                    "(No column name)": "105"
                                },
                                {
                                    "Szállás": "10",
                                    "Pótágy": "1",
                                    "(No column name)": "150"
                                },
                                {
                                    "Szállás": "10",
                                    "Pótágy": "2",
                                    "(No column name)": "36"
                                },
                                {
                                    "Szállás": "10",
                                    "Pótágy": "Részösszeg",
                                    "(No column name)": "291"
                                },
                                {
                                    "Szállás": "11",
                                    "Pótágy": "0",
                                    "(No column name)": "31"
                                },
                                {
                                    "Szállás": "11",
                                    "Pótágy": "1",
                                    "(No column name)": "17"
                                },
                                {
                                    "Szállás": "11",
                                    "Pótágy": "2",
                                    "(No column name)": "15"
                                },
                                {
                                    "Szállás": "11",
                                    "Pótágy": "Részösszeg",
                                    "(No column name)": "63"
                                },
                                {
                                    "Szállás": "12",
                                    "Pótágy": "0",
                                    "(No column name)": "216"
                                },
                                {
                                    "Szállás": "12",
                                    "Pótágy": "1",
                                    "(No column name)": "93"
                                },
                                {
                                    "Szállás": "12",
                                    "Pótágy": "2",
                                    "(No column name)": "119"
                                },
                                {
                                    "Szállás": "12",
                                    "Pótágy": "Részösszeg",
                                    "(No column name)": "428"
                                },
                                {
                                    "Szállás": "Összesen",
                                    "Pótágy": "Összesen",
                                    "(No column name)": "2490"
                                }
                            ]
                        },
                        "text/html": [
                            "<table>",
                            "<tr><th>Szállás</th><th>Pótágy</th><th>(No column name)</th></tr>",
                            "<tr><td>1</td><td>0</td><td>67</td></tr>",
                            "<tr><td>1</td><td>1</td><td>99</td></tr>",
                            "<tr><td>1</td><td>Részösszeg</td><td>166</td></tr>",
                            "<tr><td>2</td><td>0</td><td>10</td></tr>",
                            "<tr><td>2</td><td>1</td><td>31</td></tr>",
                            "<tr><td>2</td><td>2</td><td>11</td></tr>",
                            "<tr><td>2</td><td>Részösszeg</td><td>52</td></tr>",
                            "<tr><td>3</td><td>0</td><td>18</td></tr>",
                            "<tr><td>3</td><td>1</td><td>52</td></tr>",
                            "<tr><td>3</td><td>2</td><td>36</td></tr>",
                            "<tr><td>3</td><td>Részösszeg</td><td>106</td></tr>",
                            "<tr><td>4</td><td>0</td><td>45</td></tr>",
                            "<tr><td>4</td><td>1</td><td>99</td></tr>",
                            "<tr><td>4</td><td>2</td><td>40</td></tr>",
                            "<tr><td>4</td><td>Részösszeg</td><td>184</td></tr>",
                            "<tr><td>5</td><td>0</td><td>113</td></tr>",
                            "<tr><td>5</td><td>1</td><td>14</td></tr>",
                            "<tr><td>5</td><td>Részösszeg</td><td>127</td></tr>",
                            "<tr><td>6</td><td>0</td><td>168</td></tr>",
                            "<tr><td>6</td><td>1</td><td>224</td></tr>",
                            "<tr><td>6</td><td>2</td><td>28</td></tr>",
                            "<tr><td>6</td><td>Részösszeg</td><td>420</td></tr>",
                            "<tr><td>7</td><td>0</td><td>64</td></tr>",
                            "<tr><td>7</td><td>1</td><td>19</td></tr>",
                            "<tr><td>7</td><td>Részösszeg</td><td>83</td></tr>",
                            "<tr><td>8</td><td>0</td><td>183</td></tr>",
                            "<tr><td>8</td><td>1</td><td>258</td></tr>",
                            "<tr><td>8</td><td>2</td><td>63</td></tr>",
                            "<tr><td>8</td><td>Részösszeg</td><td>504</td></tr>",
                            "<tr><td>9</td><td>0</td><td>66</td></tr>",
                            "<tr><td>9</td><td>Részösszeg</td><td>66</td></tr>",
                            "<tr><td>10</td><td>0</td><td>105</td></tr>",
                            "<tr><td>10</td><td>1</td><td>150</td></tr>",
                            "<tr><td>10</td><td>2</td><td>36</td></tr>",
                            "<tr><td>10</td><td>Részösszeg</td><td>291</td></tr>",
                            "<tr><td>11</td><td>0</td><td>31</td></tr>",
                            "<tr><td>11</td><td>1</td><td>17</td></tr>",
                            "<tr><td>11</td><td>2</td><td>15</td></tr>",
                            "<tr><td>11</td><td>Részösszeg</td><td>63</td></tr>",
                            "<tr><td>12</td><td>0</td><td>216</td></tr>",
                            "<tr><td>12</td><td>1</td><td>93</td></tr>",
                            "<tr><td>12</td><td>2</td><td>119</td></tr>",
                            "<tr><td>12</td><td>Részösszeg</td><td>428</td></tr>",
                            "<tr><td>Összesen</td><td>Összesen</td><td>2490</td></tr>",
                            "</table>"
                        ]
                    }
                }
            ],
            "execution_count": 33
        },
        {
            "cell_type": "markdown",
            "source": [
                "A Szoba tábla Ferohely oszlopára végezzük el a következő számításokat:\n",
                "\n",
                "- Különböző értékek száma\n",
                "- Minimum, maximum, átlag\n",
                "- Null és Not null értékek százalékos aránya"
            ],
            "metadata": {
                "azdata_cell_guid": "c5293743-b23b-4455-8e94-4a19d4da10dd"
            },
            "attachments": {}
        },
        {
            "cell_type": "code",
            "source": [
                "select  count(distinct FEROHELY) as 'Különböző értékek száma',\r\n",
                "        max(FEROHELY) as 'Maximum',\r\n",
                "        min(FEROHELY) as 'Minimum',\r\n",
                "        avg(FEROHELY) as 'Átlag',\r\n",
                "        0/count(ferohely)*100 as 'NULL értékek százalékos aránya'\r\n",
                "        \r\n",
                "from Szoba\r\n",
                "\r\n",
                "select count(ferohely) as 'Null értékek száma'\r\n",
                "from Szoba\r\n",
                "where ferohely is NULL \r\n",
                "\r\n",
                ""
            ],
            "metadata": {
                "azdata_cell_guid": "0b2b0269-8d6a-45ac-ba7c-20020f5ba075",
                "language": "sql"
            },
            "outputs": [
                {
                    "output_type": "display_data",
                    "data": {
                        "text/html": "(1 row affected)"
                    },
                    "metadata": {}
                },
                {
                    "output_type": "display_data",
                    "data": {
                        "text/html": "(1 row affected)"
                    },
                    "metadata": {}
                },
                {
                    "output_type": "display_data",
                    "data": {
                        "text/html": "Total execution time: 00:00:00.007"
                    },
                    "metadata": {}
                },
                {
                    "output_type": "execute_result",
                    "metadata": {},
                    "execution_count": 43,
                    "data": {
                        "application/vnd.dataresource+json": {
                            "schema": {
                                "fields": [
                                    {
                                        "name": "Különböző értékek száma"
                                    },
                                    {
                                        "name": "Maximum"
                                    },
                                    {
                                        "name": "Minimum"
                                    },
                                    {
                                        "name": "Átlag"
                                    },
                                    {
                                        "name": "NULL értékek százalékos aránya"
                                    }
                                ]
                            },
                            "data": [
                                {
                                    "Különböző értékek száma": "4",
                                    "Maximum": "4",
                                    "Minimum": "1",
                                    "Átlag": "2",
                                    "NULL értékek százalékos aránya": "0"
                                }
                            ]
                        },
                        "text/html": [
                            "<table>",
                            "<tr><th>Különböző értékek száma</th><th>Maximum</th><th>Minimum</th><th>Átlag</th><th>NULL értékek százalékos aránya</th></tr>",
                            "<tr><td>4</td><td>4</td><td>1</td><td>2</td><td>0</td></tr>",
                            "</table>"
                        ]
                    }
                },
                {
                    "output_type": "execute_result",
                    "metadata": {},
                    "execution_count": 43,
                    "data": {
                        "application/vnd.dataresource+json": {
                            "schema": {
                                "fields": [
                                    {
                                        "name": "Null értékek száma"
                                    }
                                ]
                            },
                            "data": [
                                {
                                    "Null értékek száma": "0"
                                }
                            ]
                        },
                        "text/html": [
                            "<table>",
                            "<tr><th>Null értékek száma</th></tr>",
                            "<tr><td>0</td></tr>",
                            "</table>"
                        ]
                    }
                }
            ],
            "execution_count": 43
        },
        {
            "cell_type": "markdown",
            "source": [
                "Valósítsa meg REDIS-ben a következő táblákat:\n",
                "\n",
                "- <span style=\"box-sizing: border-box; font-size: 0.9375rem;\">IRO(ID, nev, nemzetiseg)</span>\n",
                "- KONYV(ID, cim, mufaj, IRO\\_ID)\n",
                "\n",
                "Vigyen fel táblánként legalább 2-2 sornyi adatot!"
            ],
            "metadata": {
                "azdata_cell_guid": "e80e9abe-4fde-45f7-92f4-bf02e66e0bdd"
            },
            "attachments": {}
        },
        {
            "cell_type": "code",
            "source": [
                "> hset IRO:1 ID 1 nev \"Kiss Anna\" nemzetiseg magyar\r\n",
                "> hset IRO:2 ID 2 nev \"Nagy Béla\" nemzetiseg olasz\r\n",
                "> hset KONYV:1:1 ID 1 cim \"A legjobb tanuló\" mufaj sci-fi IRO_ID 1\r\n",
                "hset KONYV:2:2 ID 2 cim \"A győztes város\" mufaj drama IRO_ID 2"
            ],
            "metadata": {
                "azdata_cell_guid": "c4120b6b-8d7a-4af0-8568-7405edb1fbc9",
                "language": "sql"
            },
            "outputs": [],
            "execution_count": null
        },
        {
            "cell_type": "code",
            "source": [
                "///Cassandra\r\n",
                "\r\n",
                "create table STUDENT (ID int, Nev text, Teljesitett_felev list<int>, \r\n",
                "Eredemenyek map<int, decimal>, nyelvtudas set<text>, primary key(ID));\r\n",
                "\r\n",
                "insert into STUDENT(id, Nev, Teljesitett_felev, Eredemenyek, nyelvtudas) values (1, 'Béla', [1,2,3], {1,2,4}, {'amgol'});\r\n",
                "insert into STUDENT(id, Nev, Teljesitett_felev, Eredemenyek, nyelvtudas) values (2, 'Lajos', [1,2,3], {1,3}, {'német'});\r\n",
                ""
            ],
            "metadata": {
                "azdata_cell_guid": "84376bb2-e7c9-4b4d-93d2-9df1490dd254",
                "language": "sql",
                "tags": []
            },
            "outputs": [],
            "execution_count": null
        },
        {
            "cell_type": "markdown",
            "source": [
                "Neo4j\n",
                "\n",
                "<span style=\"color: #859900;\">match</span> <span style=\"color: #586e75;\">(</span><span style=\"color: #333333;\">p</span><span style=\"color: #586e75;\">:</span><span style=\"color: #333333;\">Person</span><span style=\"color: #586e75;\">)-[:</span><span style=\"color: #333333;\">ACTED_IN</span><span style=\"color: #586e75;\">]-&gt;(</span><span style=\"color: #333333;\">m</span><span style=\"color: #586e75;\">:</span><span style=\"color: #333333;\">Movie</span><span style=\"color: #586e75;\">)&lt;-[:</span><span style=\"color: #333333;\">ACTED_IN</span><span style=\"color: #586e75;\">]-(</span><span style=\"color: #333333;\">p2</span><span style=\"color: #586e75;\">:</span><span style=\"color: #333333;\">Person</span><span style=\"color: #586e75;\">)</span>\n",
                "\n",
                "<span style=\"color: #859900;\">where</span> <span style=\"color: #333333;\">&nbsp;p</span><span style=\"color: #586e75;\">.</span><span style=\"color: #859900;\">name</span><span style=\"color: #586e75;\">=</span><span style=\"color: #b58900;\">\"Tom&nbsp;Hanks\"</span> <span style=\"color: #859900;\">and</span> <span style=\"color: #333333;\">&nbsp;p2</span><span style=\"color: #586e75;\">.</span><span style=\"color: #859900;\">name</span><span style=\"color: #586e75;\">&lt;&gt;</span><span style=\"color: #b58900;\">\"Tom&nbsp;Hanks\"</span>\n",
                "\n",
                "<span style=\"color: #859900;\">return</span> <span style=\"color: #859900;\">distinct</span> <span style=\"color: #333333;\">&nbsp;p2</span><span style=\"color: #586e75;\">.</span><span style=\"color: #859900;\">name</span>"
            ],
            "metadata": {
                "azdata_cell_guid": "5017546a-63ff-4ea3-a77d-38f643bf6868"
            },
            "attachments": {}
        }
    ]
}