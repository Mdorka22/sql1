{
    "metadata": {
        "kernelspec": {
            "name": "SQL",
            "display_name": "SQL",
            "language": "sql"
        },
        "language_info": {
            "name": "sql",
            "version": ""
        }
    },
    "nbformat_minor": 2,
    "nbformat": 4,
    "cells": [
        {
            "cell_type": "code",
            "source": [
                "Select szoba_fk, iif(year(mettol) is NULL, 'Részösszeg', cast(year(mettol) AS NVarchar(4))),\r\n",
                "        count (*)\r\n",
                "from Foglalas\r\n",
                "group by rollup(szoba_fk, year(mettol))"
            ],
            "metadata": {
                "azdata_cell_guid": "5928ad39-67b1-456c-8691-05072de44e44",
                "language": "sql"
            },
            "outputs": [
                {
                    "output_type": "display_data",
                    "data": {
                        "text/html": "(513 rows affected)"
                    },
                    "metadata": {}
                },
                {
                    "output_type": "display_data",
                    "data": {
                        "text/html": "Total execution time: 00:00:00.062"
                    },
                    "metadata": {}
                },
                {
                    "output_type": "execute_result",
                    "metadata": {},
                    "execution_count": 5,
                    "data": {
                        "application/vnd.dataresource+json": {
                            "schema": {
                                "fields": [
                                    {
                                        "name": "szoba_fk"
                                    },
                                    {
                                        "name": "(No column name)"
                                    },
                                    {
                                        "name": "(No column name)"
                                    }
                                ]
                            },
                            "data": [
                                {
                                    "szoba_fk": "1",
                                    "(No column name)": "8"
                                },
                                {
                                    "szoba_fk": "1",
                                    "(No column name)": "8"
                                },
                                {
                                    "szoba_fk": "2",
                                    "(No column name)": "4"
                                },
                                {
                                    "szoba_fk": "2",
                                    "(No column name)": "4"
                                },
                                {
                                    "szoba_fk": "3",
                                    "(No column name)": "6"
                                },
                                {
                                    "szoba_fk": "3",
                                    "(No column name)": "2"
                                },
                                {
                                    "szoba_fk": "3",
                                    "(No column name)": "8"
                                },
                                {
                                    "szoba_fk": "4",
                                    "(No column name)": "5"
                                },
                                {
                                    "szoba_fk": "4",
                                    "(No column name)": "1"
                                },
                                {
                                    "szoba_fk": "4",
                                    "(No column name)": "6"
                                },
                                {
                                    "szoba_fk": "5",
                                    "(No column name)": "4"
                                },
                                {
                                    "szoba_fk": "5",
                                    "(No column name)": "4"
                                },
                                {
                                    "szoba_fk": "6",
                                    "(No column name)": "6"
                                },
                                {
                                    "szoba_fk": "6",
                                    "(No column name)": "6"
                                },
                                {
                                    "szoba_fk": "7",
                                    "(No column name)": "6"
                                },
                                {
                                    "szoba_fk": "7",
                                    "(No column name)": "6"
                                },
                                {
                                    "szoba_fk": "8",
                                    "(No column name)": "5"
                                },
                                {
                                    "szoba_fk": "8",
                                    "(No column name)": "5"
                                },
                                {
                                    "szoba_fk": "9",
                                    "(No column name)": "4"
                                },
                                {
                                    "szoba_fk": "9",
                                    "(No column name)": "2"
                                },
                                {
                                    "szoba_fk": "9",
                                    "(No column name)": "6"
                                },
                                {
                                    "szoba_fk": "10",
                                    "(No column name)": "4"
                                },
                                {
                                    "szoba_fk": "10",
                                    "(No column name)": "4"
                                },
                                {
                                    "szoba_fk": "11",
                                    "(No column name)": "3"
                                },
                                {
                                    "szoba_fk": "11",
                                    "(No column name)": "1"
                                },
                                {
                                    "szoba_fk": "11",
                                    "(No column name)": "4"
                                },
                                {
                                    "szoba_fk": "12",
                                    "(No column name)": "8"
                                },
                                {
                                    "szoba_fk": "12",
                                    "(No column name)": "1"
                                },
                                {
                                    "szoba_fk": "12",
                                    "(No column name)": "9"
                                },
                                {
                                    "szoba_fk": "13",
                                    "(No column name)": "3"
                                },
                                {
                                    "szoba_fk": "13",
                                    "(No column name)": "1"
                                },
                                {
                                    "szoba_fk": "13",
                                    "(No column name)": "4"
                                },
                                {
                                    "szoba_fk": "14",
                                    "(No column name)": "2"
                                },
                                {
                                    "szoba_fk": "14",
                                    "(No column name)": "1"
                                },
                                {
                                    "szoba_fk": "14",
                                    "(No column name)": "3"
                                },
                                {
                                    "szoba_fk": "15",
                                    "(No column name)": "4"
                                },
                                {
                                    "szoba_fk": "15",
                                    "(No column name)": "2"
                                },
                                {
                                    "szoba_fk": "15",
                                    "(No column name)": "6"
                                },
                                {
                                    "szoba_fk": "16",
                                    "(No column name)": "4"
                                },
                                {
                                    "szoba_fk": "16",
                                    "(No column name)": "1"
                                },
                                {
                                    "szoba_fk": "16",
                                    "(No column name)": "5"
                                },
                                {
                                    "szoba_fk": "17",
                                    "(No column name)": "5"
                                },
                                {
                                    "szoba_fk": "17",
                                    "(No column name)": "1"
                                },
                                {
                                    "szoba_fk": "17",
                                    "(No column name)": "6"
                                },
                                {
                                    "szoba_fk": "18",
                                    "(No column name)": "5"
                                },
                                {
                                    "szoba_fk": "18",
                                    "(No column name)": "1"
                                },
                                {
                                    "szoba_fk": "18",
                                    "(No column name)": "6"
                                },
                                {
                                    "szoba_fk": "19",
                                    "(No column name)": "5"
                                },
                                {
                                    "szoba_fk": "19",
                                    "(No column name)": "1"
                                },
                                {
                                    "szoba_fk": "19",
                                    "(No column name)": "6"
                                },
                                {
                                    "szoba_fk": "20",
                                    "(No column name)": "5"
                                },
                                {
                                    "szoba_fk": "20",
                                    "(No column name)": "5"
                                },
                                {
                                    "szoba_fk": "21",
                                    "(No column name)": "4"
                                },
                                {
                                    "szoba_fk": "21",
                                    "(No column name)": "4"
                                },
                                {
                                    "szoba_fk": "22",
                                    "(No column name)": "6"
                                },
                                {
                                    "szoba_fk": "22",
                                    "(No column name)": "6"
                                },
                                {
                                    "szoba_fk": "23",
                                    "(No column name)": "3"
                                },
                                {
                                    "szoba_fk": "23",
                                    "(No column name)": "3"
                                },
                                {
                                    "szoba_fk": "24",
                                    "(No column name)": "2"
                                },
                                {
                                    "szoba_fk": "24",
                                    "(No column name)": "1"
                                },
                                {
                                    "szoba_fk": "24",
                                    "(No column name)": "3"
                                },
                                {
                                    "szoba_fk": "25",
                                    "(No column name)": "2"
                                },
                                {
                                    "szoba_fk": "25",
                                    "(No column name)": "2"
                                },
                                {
                                    "szoba_fk": "26",
                                    "(No column name)": "2"
                                },
                                {
                                    "szoba_fk": "26",
                                    "(No column name)": "2"
                                },
                                {
                                    "szoba_fk": "27",
                                    "(No column name)": "6"
                                },
                                {
                                    "szoba_fk": "27",
                                    "(No column name)": "1"
                                },
                                {
                                    "szoba_fk": "27",
                                    "(No column name)": "7"
                                },
                                {
                                    "szoba_fk": "28",
                                    "(No column name)": "5"
                                },
                                {
                                    "szoba_fk": "28",
                                    "(No column name)": "1"
                                },
                                {
                                    "szoba_fk": "28",
                                    "(No column name)": "6"
                                },
                                {
                                    "szoba_fk": "29",
                                    "(No column name)": "5"
                                },
                                {
                                    "szoba_fk": "29",
                                    "(No column name)": "1"
                                },
                                {
                                    "szoba_fk": "29",
                                    "(No column name)": "6"
                                },
                                {
                                    "szoba_fk": "30",
                                    "(No column name)": "3"
                                },
                                {
                                    "szoba_fk": "30",
                                    "(No column name)": "3"
                                },
                                {
                                    "szoba_fk": "31",
                                    "(No column name)": "3"
                                },
                                {
                                    "szoba_fk": "31",
                                    "(No column name)": "3"
                                },
                                {
                                    "szoba_fk": "32",
                                    "(No column name)": "1"
                                },
                                {
                                    "szoba_fk": "32",
                                    "(No column name)": "1"
                                },
                                {
                                    "szoba_fk": "33",
                                    "(No column name)": "6"
                                },
                                {
                                    "szoba_fk": "33",
                                    "(No column name)": "6"
                                },
                                {
                                    "szoba_fk": "34",
                                    "(No column name)": "4"
                                },
                                {
                                    "szoba_fk": "34",
                                    "(No column name)": "4"
                                },
                                {
                                    "szoba_fk": "35",
                                    "(No column name)": "6"
                                },
                                {
                                    "szoba_fk": "35",
                                    "(No column name)": "3"
                                },
                                {
                                    "szoba_fk": "35",
                                    "(No column name)": "9"
                                },
                                {
                                    "szoba_fk": "36",
                                    "(No column name)": "6"
                                },
                                {
                                    "szoba_fk": "36",
                                    "(No column name)": "6"
                                },
                                {
                                    "szoba_fk": "37",
                                    "(No column name)": "3"
                                },
                                {
                                    "szoba_fk": "37",
                                    "(No column name)": "3"
                                },
                                {
                                    "szoba_fk": "38",
                                    "(No column name)": "5"
                                },
                                {
                                    "szoba_fk": "38",
                                    "(No column name)": "3"
                                },
                                {
                                    "szoba_fk": "38",
                                    "(No column name)": "8"
                                },
                                {
                                    "szoba_fk": "39",
                                    "(No column name)": "4"
                                },
                                {
                                    "szoba_fk": "39",
                                    "(No column name)": "3"
                                },
                                {
                                    "szoba_fk": "39",
                                    "(No column name)": "7"
                                },
                                {
                                    "szoba_fk": "40",
                                    "(No column name)": "4"
                                },
                                {
                                    "szoba_fk": "40",
                                    "(No column name)": "4"
                                },
                                {
                                    "szoba_fk": "41",
                                    "(No column name)": "2"
                                },
                                {
                                    "szoba_fk": "41",
                                    "(No column name)": "2"
                                },
                                {
                                    "szoba_fk": "42",
                                    "(No column name)": "5"
                                },
                                {
                                    "szoba_fk": "42",
                                    "(No column name)": "1"
                                },
                                {
                                    "szoba_fk": "42",
                                    "(No column name)": "6"
                                },
                                {
                                    "szoba_fk": "43",
                                    "(No column name)": "6"
                                },
                                {
                                    "szoba_fk": "43",
                                    "(No column name)": "2"
                                },
                                {
                                    "szoba_fk": "43",
                                    "(No column name)": "8"
                                },
                                {
                                    "szoba_fk": "44",
                                    "(No column name)": "4"
                                },
                                {
                                    "szoba_fk": "44",
                                    "(No column name)": "2"
                                },
                                {
                                    "szoba_fk": "44",
                                    "(No column name)": "6"
                                },
                                {
                                    "szoba_fk": "45",
                                    "(No column name)": "5"
                                },
                                {
                                    "szoba_fk": "45",
                                    "(No column name)": "5"
                                },
                                {
                                    "szoba_fk": "46",
                                    "(No column name)": "3"
                                },
                                {
                                    "szoba_fk": "46",
                                    "(No column name)": "1"
                                },
                                {
                                    "szoba_fk": "46",
                                    "(No column name)": "4"
                                },
                                {
                                    "szoba_fk": "47",
                                    "(No column name)": "2"
                                },
                                {
                                    "szoba_fk": "47",
                                    "(No column name)": "2"
                                },
                                {
                                    "szoba_fk": "48",
                                    "(No column name)": "6"
                                },
                                {
                                    "szoba_fk": "48",
                                    "(No column name)": "3"
                                },
                                {
                                    "szoba_fk": "48",
                                    "(No column name)": "9"
                                },
                                {
                                    "szoba_fk": "49",
                                    "(No column name)": "6"
                                },
                                {
                                    "szoba_fk": "49",
                                    "(No column name)": "1"
                                },
                                {
                                    "szoba_fk": "49",
                                    "(No column name)": "7"
                                },
                                {
                                    "szoba_fk": "50",
                                    "(No column name)": "4"
                                },
                                {
                                    "szoba_fk": "50",
                                    "(No column name)": "4"
                                },
                                {
                                    "szoba_fk": "51",
                                    "(No column name)": "3"
                                },
                                {
                                    "szoba_fk": "51",
                                    "(No column name)": "2"
                                },
                                {
                                    "szoba_fk": "51",
                                    "(No column name)": "5"
                                },
                                {
                                    "szoba_fk": "52",
                                    "(No column name)": "3"
                                },
                                {
                                    "szoba_fk": "52",
                                    "(No column name)": "2"
                                },
                                {
                                    "szoba_fk": "52",
                                    "(No column name)": "5"
                                },
                                {
                                    "szoba_fk": "53",
                                    "(No column name)": "2"
                                },
                                {
                                    "szoba_fk": "53",
                                    "(No column name)": "2"
                                },
                                {
                                    "szoba_fk": "54",
                                    "(No column name)": "6"
                                },
                                {
                                    "szoba_fk": "54",
                                    "(No column name)": "6"
                                },
                                {
                                    "szoba_fk": "55",
                                    "(No column name)": "6"
                                },
                                {
                                    "szoba_fk": "55",
                                    "(No column name)": "2"
                                },
                                {
                                    "szoba_fk": "55",
                                    "(No column name)": "8"
                                },
                                {
                                    "szoba_fk": "56",
                                    "(No column name)": "2"
                                },
                                {
                                    "szoba_fk": "56",
                                    "(No column name)": "2"
                                },
                                {
                                    "szoba_fk": "57",
                                    "(No column name)": "2"
                                },
                                {
                                    "szoba_fk": "57",
                                    "(No column name)": "2"
                                },
                                {
                                    "szoba_fk": "57",
                                    "(No column name)": "4"
                                },
                                {
                                    "szoba_fk": "58",
                                    "(No column name)": "12"
                                },
                                {
                                    "szoba_fk": "58",
                                    "(No column name)": "1"
                                },
                                {
                                    "szoba_fk": "58",
                                    "(No column name)": "13"
                                },
                                {
                                    "szoba_fk": "59",
                                    "(No column name)": "6"
                                },
                                {
                                    "szoba_fk": "59",
                                    "(No column name)": "1"
                                },
                                {
                                    "szoba_fk": "59",
                                    "(No column name)": "7"
                                },
                                {
                                    "szoba_fk": "60",
                                    "(No column name)": "1"
                                },
                                {
                                    "szoba_fk": "60",
                                    "(No column name)": "1"
                                },
                                {
                                    "szoba_fk": "61",
                                    "(No column name)": "4"
                                },
                                {
                                    "szoba_fk": "61",
                                    "(No column name)": "1"
                                },
                                {
                                    "szoba_fk": "61",
                                    "(No column name)": "5"
                                },
                                {
                                    "szoba_fk": "62",
                                    "(No column name)": "4"
                                },
                                {
                                    "szoba_fk": "62",
                                    "(No column name)": "1"
                                },
                                {
                                    "szoba_fk": "62",
                                    "(No column name)": "5"
                                },
                                {
                                    "szoba_fk": "63",
                                    "(No column name)": "4"
                                },
                                {
                                    "szoba_fk": "63",
                                    "(No column name)": "4"
                                },
                                {
                                    "szoba_fk": "64",
                                    "(No column name)": "3"
                                },
                                {
                                    "szoba_fk": "64",
                                    "(No column name)": "3"
                                },
                                {
                                    "szoba_fk": "64",
                                    "(No column name)": "6"
                                },
                                {
                                    "szoba_fk": "65",
                                    "(No column name)": "1"
                                },
                                {
                                    "szoba_fk": "65",
                                    "(No column name)": "1"
                                },
                                {
                                    "szoba_fk": "66",
                                    "(No column name)": "4"
                                },
                                {
                                    "szoba_fk": "66",
                                    "(No column name)": "4"
                                },
                                {
                                    "szoba_fk": "67",
                                    "(No column name)": "4"
                                },
                                {
                                    "szoba_fk": "67",
                                    "(No column name)": "2"
                                },
                                {
                                    "szoba_fk": "67",
                                    "(No column name)": "6"
                                },
                                {
                                    "szoba_fk": "68",
                                    "(No column name)": "3"
                                },
                                {
                                    "szoba_fk": "68",
                                    "(No column name)": "3"
                                },
                                {
                                    "szoba_fk": "69",
                                    "(No column name)": "4"
                                },
                                {
                                    "szoba_fk": "69",
                                    "(No column name)": "4"
                                },
                                {
                                    "szoba_fk": "70",
                                    "(No column name)": "10"
                                },
                                {
                                    "szoba_fk": "70",
                                    "(No column name)": "1"
                                },
                                {
                                    "szoba_fk": "70",
                                    "(No column name)": "11"
                                },
                                {
                                    "szoba_fk": "71",
                                    "(No column name)": "3"
                                },
                                {
                                    "szoba_fk": "71",
                                    "(No column name)": "3"
                                },
                                {
                                    "szoba_fk": "72",
                                    "(No column name)": "4"
                                },
                                {
                                    "szoba_fk": "72",
                                    "(No column name)": "4"
                                },
                                {
                                    "szoba_fk": "73",
                                    "(No column name)": "4"
                                },
                                {
                                    "szoba_fk": "73",
                                    "(No column name)": "4"
                                },
                                {
                                    "szoba_fk": "74",
                                    "(No column name)": "9"
                                },
                                {
                                    "szoba_fk": "74",
                                    "(No column name)": "9"
                                },
                                {
                                    "szoba_fk": "75",
                                    "(No column name)": "1"
                                },
                                {
                                    "szoba_fk": "75",
                                    "(No column name)": "2"
                                },
                                {
                                    "szoba_fk": "75",
                                    "(No column name)": "3"
                                },
                                {
                                    "szoba_fk": "76",
                                    "(No column name)": "2"
                                },
                                {
                                    "szoba_fk": "76",
                                    "(No column name)": "1"
                                },
                                {
                                    "szoba_fk": "76",
                                    "(No column name)": "3"
                                },
                                {
                                    "szoba_fk": "77",
                                    "(No column name)": "4"
                                },
                                {
                                    "szoba_fk": "77",
                                    "(No column name)": "2"
                                },
                                {
                                    "szoba_fk": "77",
                                    "(No column name)": "6"
                                },
                                {
                                    "szoba_fk": "78",
                                    "(No column name)": "5"
                                },
                                {
                                    "szoba_fk": "78",
                                    "(No column name)": "1"
                                },
                                {
                                    "szoba_fk": "78",
                                    "(No column name)": "6"
                                },
                                {
                                    "szoba_fk": "79",
                                    "(No column name)": "4"
                                },
                                {
                                    "szoba_fk": "79",
                                    "(No column name)": "1"
                                },
                                {
                                    "szoba_fk": "79",
                                    "(No column name)": "5"
                                },
                                {
                                    "szoba_fk": "80",
                                    "(No column name)": "7"
                                },
                                {
                                    "szoba_fk": "80",
                                    "(No column name)": "7"
                                },
                                {
                                    "szoba_fk": "81",
                                    "(No column name)": "1"
                                },
                                {
                                    "szoba_fk": "81",
                                    "(No column name)": "4"
                                },
                                {
                                    "szoba_fk": "81",
                                    "(No column name)": "5"
                                },
                                {
                                    "szoba_fk": "82",
                                    "(No column name)": "6"
                                },
                                {
                                    "szoba_fk": "82",
                                    "(No column name)": "6"
                                },
                                {
                                    "szoba_fk": "83",
                                    "(No column name)": "8"
                                },
                                {
                                    "szoba_fk": "83",
                                    "(No column name)": "8"
                                },
                                {
                                    "szoba_fk": "84",
                                    "(No column name)": "4"
                                },
                                {
                                    "szoba_fk": "84",
                                    "(No column name)": "4"
                                },
                                {
                                    "szoba_fk": "85",
                                    "(No column name)": "3"
                                },
                                {
                                    "szoba_fk": "85",
                                    "(No column name)": "1"
                                },
                                {
                                    "szoba_fk": "85",
                                    "(No column name)": "4"
                                },
                                {
                                    "szoba_fk": "86",
                                    "(No column name)": "4"
                                },
                                {
                                    "szoba_fk": "86",
                                    "(No column name)": "1"
                                },
                                {
                                    "szoba_fk": "86",
                                    "(No column name)": "5"
                                },
                                {
                                    "szoba_fk": "87",
                                    "(No column name)": "4"
                                },
                                {
                                    "szoba_fk": "87",
                                    "(No column name)": "1"
                                },
                                {
                                    "szoba_fk": "87",
                                    "(No column name)": "5"
                                },
                                {
                                    "szoba_fk": "88",
                                    "(No column name)": "6"
                                },
                                {
                                    "szoba_fk": "88",
                                    "(No column name)": "2"
                                },
                                {
                                    "szoba_fk": "88",
                                    "(No column name)": "8"
                                },
                                {
                                    "szoba_fk": "89",
                                    "(No column name)": "7"
                                },
                                {
                                    "szoba_fk": "89",
                                    "(No column name)": "1"
                                },
                                {
                                    "szoba_fk": "89",
                                    "(No column name)": "8"
                                },
                                {
                                    "szoba_fk": "90",
                                    "(No column name)": "4"
                                },
                                {
                                    "szoba_fk": "90",
                                    "(No column name)": "4"
                                },
                                {
                                    "szoba_fk": "91",
                                    "(No column name)": "4"
                                },
                                {
                                    "szoba_fk": "91",
                                    "(No column name)": "4"
                                },
                                {
                                    "szoba_fk": "92",
                                    "(No column name)": "4"
                                },
                                {
                                    "szoba_fk": "92",
                                    "(No column name)": "2"
                                },
                                {
                                    "szoba_fk": "92",
                                    "(No column name)": "6"
                                },
                                {
                                    "szoba_fk": "93",
                                    "(No column name)": "5"
                                },
                                {
                                    "szoba_fk": "93",
                                    "(No column name)": "5"
                                },
                                {
                                    "szoba_fk": "94",
                                    "(No column name)": "8"
                                },
                                {
                                    "szoba_fk": "94",
                                    "(No column name)": "2"
                                },
                                {
                                    "szoba_fk": "94",
                                    "(No column name)": "10"
                                },
                                {
                                    "szoba_fk": "95",
                                    "(No column name)": "3"
                                },
                                {
                                    "szoba_fk": "95",
                                    "(No column name)": "1"
                                },
                                {
                                    "szoba_fk": "95",
                                    "(No column name)": "4"
                                },
                                {
                                    "szoba_fk": "96",
                                    "(No column name)": "5"
                                },
                                {
                                    "szoba_fk": "96",
                                    "(No column name)": "2"
                                },
                                {
                                    "szoba_fk": "96",
                                    "(No column name)": "7"
                                },
                                {
                                    "szoba_fk": "97",
                                    "(No column name)": "5"
                                },
                                {
                                    "szoba_fk": "97",
                                    "(No column name)": "2"
                                },
                                {
                                    "szoba_fk": "97",
                                    "(No column name)": "7"
                                },
                                {
                                    "szoba_fk": "98",
                                    "(No column name)": "4"
                                },
                                {
                                    "szoba_fk": "98",
                                    "(No column name)": "4"
                                },
                                {
                                    "szoba_fk": "99",
                                    "(No column name)": "4"
                                },
                                {
                                    "szoba_fk": "99",
                                    "(No column name)": "1"
                                },
                                {
                                    "szoba_fk": "99",
                                    "(No column name)": "5"
                                },
                                {
                                    "szoba_fk": "100",
                                    "(No column name)": "3"
                                },
                                {
                                    "szoba_fk": "100",
                                    "(No column name)": "1"
                                },
                                {
                                    "szoba_fk": "100",
                                    "(No column name)": "4"
                                },
                                {
                                    "szoba_fk": "101",
                                    "(No column name)": "2"
                                },
                                {
                                    "szoba_fk": "101",
                                    "(No column name)": "1"
                                },
                                {
                                    "szoba_fk": "101",
                                    "(No column name)": "3"
                                },
                                {
                                    "szoba_fk": "102",
                                    "(No column name)": "2"
                                },
                                {
                                    "szoba_fk": "102",
                                    "(No column name)": "2"
                                },
                                {
                                    "szoba_fk": "103",
                                    "(No column name)": "3"
                                },
                                {
                                    "szoba_fk": "103",
                                    "(No column name)": "1"
                                },
                                {
                                    "szoba_fk": "103",
                                    "(No column name)": "4"
                                },
                                {
                                    "szoba_fk": "104",
                                    "(No column name)": "2"
                                },
                                {
                                    "szoba_fk": "104",
                                    "(No column name)": "2"
                                },
                                {
                                    "szoba_fk": "104",
                                    "(No column name)": "4"
                                },
                                {
                                    "szoba_fk": "105",
                                    "(No column name)": "1"
                                },
                                {
                                    "szoba_fk": "105",
                                    "(No column name)": "1"
                                },
                                {
                                    "szoba_fk": "105",
                                    "(No column name)": "2"
                                },
                                {
                                    "szoba_fk": "106",
                                    "(No column name)": "5"
                                },
                                {
                                    "szoba_fk": "106",
                                    "(No column name)": "1"
                                },
                                {
                                    "szoba_fk": "106",
                                    "(No column name)": "6"
                                },
                                {
                                    "szoba_fk": "107",
                                    "(No column name)": "3"
                                },
                                {
                                    "szoba_fk": "107",
                                    "(No column name)": "2"
                                },
                                {
                                    "szoba_fk": "107",
                                    "(No column name)": "5"
                                },
                                {
                                    "szoba_fk": "108",
                                    "(No column name)": "2"
                                },
                                {
                                    "szoba_fk": "108",
                                    "(No column name)": "2"
                                },
                                {
                                    "szoba_fk": "109",
                                    "(No column name)": "6"
                                },
                                {
                                    "szoba_fk": "109",
                                    "(No column name)": "1"
                                },
                                {
                                    "szoba_fk": "109",
                                    "(No column name)": "7"
                                },
                                {
                                    "szoba_fk": "110",
                                    "(No column name)": "6"
                                },
                                {
                                    "szoba_fk": "110",
                                    "(No column name)": "2"
                                },
                                {
                                    "szoba_fk": "110",
                                    "(No column name)": "8"
                                },
                                {
                                    "szoba_fk": "111",
                                    "(No column name)": "5"
                                },
                                {
                                    "szoba_fk": "111",
                                    "(No column name)": "5"
                                },
                                {
                                    "szoba_fk": "112",
                                    "(No column name)": "4"
                                },
                                {
                                    "szoba_fk": "112",
                                    "(No column name)": "1"
                                },
                                {
                                    "szoba_fk": "112",
                                    "(No column name)": "5"
                                },
                                {
                                    "szoba_fk": "113",
                                    "(No column name)": "3"
                                },
                                {
                                    "szoba_fk": "113",
                                    "(No column name)": "2"
                                },
                                {
                                    "szoba_fk": "113",
                                    "(No column name)": "5"
                                },
                                {
                                    "szoba_fk": "114",
                                    "(No column name)": "3"
                                },
                                {
                                    "szoba_fk": "114",
                                    "(No column name)": "1"
                                },
                                {
                                    "szoba_fk": "114",
                                    "(No column name)": "4"
                                },
                                {
                                    "szoba_fk": "115",
                                    "(No column name)": "5"
                                },
                                {
                                    "szoba_fk": "115",
                                    "(No column name)": "2"
                                },
                                {
                                    "szoba_fk": "115",
                                    "(No column name)": "7"
                                },
                                {
                                    "szoba_fk": "116",
                                    "(No column name)": "2"
                                },
                                {
                                    "szoba_fk": "116",
                                    "(No column name)": "2"
                                },
                                {
                                    "szoba_fk": "117",
                                    "(No column name)": "7"
                                },
                                {
                                    "szoba_fk": "117",
                                    "(No column name)": "1"
                                },
                                {
                                    "szoba_fk": "117",
                                    "(No column name)": "8"
                                },
                                {
                                    "szoba_fk": "118",
                                    "(No column name)": "5"
                                },
                                {
                                    "szoba_fk": "118",
                                    "(No column name)": "2"
                                },
                                {
                                    "szoba_fk": "118",
                                    "(No column name)": "7"
                                },
                                {
                                    "szoba_fk": "119",
                                    "(No column name)": "3"
                                },
                                {
                                    "szoba_fk": "119",
                                    "(No column name)": "2"
                                },
                                {
                                    "szoba_fk": "119",
                                    "(No column name)": "5"
                                },
                                {
                                    "szoba_fk": "120",
                                    "(No column name)": "4"
                                },
                                {
                                    "szoba_fk": "120",
                                    "(No column name)": "2"
                                },
                                {
                                    "szoba_fk": "120",
                                    "(No column name)": "6"
                                },
                                {
                                    "szoba_fk": "121",
                                    "(No column name)": "8"
                                },
                                {
                                    "szoba_fk": "121",
                                    "(No column name)": "8"
                                },
                                {
                                    "szoba_fk": "122",
                                    "(No column name)": "8"
                                },
                                {
                                    "szoba_fk": "122",
                                    "(No column name)": "1"
                                },
                                {
                                    "szoba_fk": "122",
                                    "(No column name)": "9"
                                },
                                {
                                    "szoba_fk": "123",
                                    "(No column name)": "5"
                                },
                                {
                                    "szoba_fk": "123",
                                    "(No column name)": "5"
                                },
                                {
                                    "szoba_fk": "124",
                                    "(No column name)": "4"
                                },
                                {
                                    "szoba_fk": "124",
                                    "(No column name)": "2"
                                },
                                {
                                    "szoba_fk": "124",
                                    "(No column name)": "6"
                                },
                                {
                                    "szoba_fk": "125",
                                    "(No column name)": "1"
                                },
                                {
                                    "szoba_fk": "125",
                                    "(No column name)": "1"
                                },
                                {
                                    "szoba_fk": "126",
                                    "(No column name)": "4"
                                },
                                {
                                    "szoba_fk": "126",
                                    "(No column name)": "2"
                                },
                                {
                                    "szoba_fk": "126",
                                    "(No column name)": "6"
                                },
                                {
                                    "szoba_fk": "127",
                                    "(No column name)": "6"
                                },
                                {
                                    "szoba_fk": "127",
                                    "(No column name)": "1"
                                },
                                {
                                    "szoba_fk": "127",
                                    "(No column name)": "7"
                                },
                                {
                                    "szoba_fk": "128",
                                    "(No column name)": "3"
                                },
                                {
                                    "szoba_fk": "128",
                                    "(No column name)": "2"
                                },
                                {
                                    "szoba_fk": "128",
                                    "(No column name)": "5"
                                },
                                {
                                    "szoba_fk": "129",
                                    "(No column name)": "2"
                                },
                                {
                                    "szoba_fk": "129",
                                    "(No column name)": "2"
                                },
                                {
                                    "szoba_fk": "129",
                                    "(No column name)": "4"
                                },
                                {
                                    "szoba_fk": "130",
                                    "(No column name)": "5"
                                },
                                {
                                    "szoba_fk": "130",
                                    "(No column name)": "1"
                                },
                                {
                                    "szoba_fk": "130",
                                    "(No column name)": "6"
                                },
                                {
                                    "szoba_fk": "131",
                                    "(No column name)": "4"
                                },
                                {
                                    "szoba_fk": "131",
                                    "(No column name)": "1"
                                },
                                {
                                    "szoba_fk": "131",
                                    "(No column name)": "5"
                                },
                                {
                                    "szoba_fk": "132",
                                    "(No column name)": "5"
                                },
                                {
                                    "szoba_fk": "132",
                                    "(No column name)": "1"
                                },
                                {
                                    "szoba_fk": "132",
                                    "(No column name)": "6"
                                },
                                {
                                    "szoba_fk": "133",
                                    "(No column name)": "5"
                                },
                                {
                                    "szoba_fk": "133",
                                    "(No column name)": "1"
                                },
                                {
                                    "szoba_fk": "133",
                                    "(No column name)": "6"
                                },
                                {
                                    "szoba_fk": "134",
                                    "(No column name)": "5"
                                },
                                {
                                    "szoba_fk": "134",
                                    "(No column name)": "1"
                                },
                                {
                                    "szoba_fk": "134",
                                    "(No column name)": "6"
                                },
                                {
                                    "szoba_fk": "135",
                                    "(No column name)": "3"
                                },
                                {
                                    "szoba_fk": "135",
                                    "(No column name)": "3"
                                },
                                {
                                    "szoba_fk": "136",
                                    "(No column name)": "3"
                                },
                                {
                                    "szoba_fk": "136",
                                    "(No column name)": "3"
                                },
                                {
                                    "szoba_fk": "137",
                                    "(No column name)": "6"
                                },
                                {
                                    "szoba_fk": "137",
                                    "(No column name)": "6"
                                },
                                {
                                    "szoba_fk": "138",
                                    "(No column name)": "7"
                                },
                                {
                                    "szoba_fk": "138",
                                    "(No column name)": "7"
                                },
                                {
                                    "szoba_fk": "139",
                                    "(No column name)": "5"
                                },
                                {
                                    "szoba_fk": "139",
                                    "(No column name)": "2"
                                },
                                {
                                    "szoba_fk": "139",
                                    "(No column name)": "7"
                                },
                                {
                                    "szoba_fk": "140",
                                    "(No column name)": "8"
                                },
                                {
                                    "szoba_fk": "140",
                                    "(No column name)": "8"
                                },
                                {
                                    "szoba_fk": "141",
                                    "(No column name)": "6"
                                },
                                {
                                    "szoba_fk": "141",
                                    "(No column name)": "6"
                                },
                                {
                                    "szoba_fk": "142",
                                    "(No column name)": "1"
                                },
                                {
                                    "szoba_fk": "142",
                                    "(No column name)": "1"
                                },
                                {
                                    "szoba_fk": "142",
                                    "(No column name)": "2"
                                },
                                {
                                    "szoba_fk": "143",
                                    "(No column name)": "6"
                                },
                                {
                                    "szoba_fk": "143",
                                    "(No column name)": "1"
                                },
                                {
                                    "szoba_fk": "143",
                                    "(No column name)": "7"
                                },
                                {
                                    "szoba_fk": "144",
                                    "(No column name)": "4"
                                },
                                {
                                    "szoba_fk": "144",
                                    "(No column name)": "1"
                                },
                                {
                                    "szoba_fk": "144",
                                    "(No column name)": "5"
                                },
                                {
                                    "szoba_fk": "145",
                                    "(No column name)": "5"
                                },
                                {
                                    "szoba_fk": "145",
                                    "(No column name)": "1"
                                },
                                {
                                    "szoba_fk": "145",
                                    "(No column name)": "6"
                                },
                                {
                                    "szoba_fk": "146",
                                    "(No column name)": "5"
                                },
                                {
                                    "szoba_fk": "146",
                                    "(No column name)": "1"
                                },
                                {
                                    "szoba_fk": "146",
                                    "(No column name)": "6"
                                },
                                {
                                    "szoba_fk": "147",
                                    "(No column name)": "1"
                                },
                                {
                                    "szoba_fk": "147",
                                    "(No column name)": "1"
                                },
                                {
                                    "szoba_fk": "148",
                                    "(No column name)": "5"
                                },
                                {
                                    "szoba_fk": "148",
                                    "(No column name)": "1"
                                },
                                {
                                    "szoba_fk": "148",
                                    "(No column name)": "6"
                                },
                                {
                                    "szoba_fk": "149",
                                    "(No column name)": "6"
                                },
                                {
                                    "szoba_fk": "149",
                                    "(No column name)": "1"
                                },
                                {
                                    "szoba_fk": "149",
                                    "(No column name)": "7"
                                },
                                {
                                    "szoba_fk": "150",
                                    "(No column name)": "5"
                                },
                                {
                                    "szoba_fk": "150",
                                    "(No column name)": "1"
                                },
                                {
                                    "szoba_fk": "150",
                                    "(No column name)": "6"
                                },
                                {
                                    "szoba_fk": "151",
                                    "(No column name)": "3"
                                },
                                {
                                    "szoba_fk": "151",
                                    "(No column name)": "3"
                                },
                                {
                                    "szoba_fk": "152",
                                    "(No column name)": "3"
                                },
                                {
                                    "szoba_fk": "152",
                                    "(No column name)": "1"
                                },
                                {
                                    "szoba_fk": "152",
                                    "(No column name)": "4"
                                },
                                {
                                    "szoba_fk": "153",
                                    "(No column name)": "2"
                                },
                                {
                                    "szoba_fk": "153",
                                    "(No column name)": "3"
                                },
                                {
                                    "szoba_fk": "153",
                                    "(No column name)": "5"
                                },
                                {
                                    "szoba_fk": "154",
                                    "(No column name)": "4"
                                },
                                {
                                    "szoba_fk": "154",
                                    "(No column name)": "1"
                                },
                                {
                                    "szoba_fk": "154",
                                    "(No column name)": "5"
                                },
                                {
                                    "szoba_fk": "155",
                                    "(No column name)": "4"
                                },
                                {
                                    "szoba_fk": "155",
                                    "(No column name)": "1"
                                },
                                {
                                    "szoba_fk": "155",
                                    "(No column name)": "5"
                                },
                                {
                                    "szoba_fk": "156",
                                    "(No column name)": "4"
                                },
                                {
                                    "szoba_fk": "156",
                                    "(No column name)": "3"
                                },
                                {
                                    "szoba_fk": "156",
                                    "(No column name)": "7"
                                },
                                {
                                    "szoba_fk": "157",
                                    "(No column name)": "4"
                                },
                                {
                                    "szoba_fk": "157",
                                    "(No column name)": "1"
                                },
                                {
                                    "szoba_fk": "157",
                                    "(No column name)": "5"
                                },
                                {
                                    "szoba_fk": "158",
                                    "(No column name)": "3"
                                },
                                {
                                    "szoba_fk": "158",
                                    "(No column name)": "3"
                                },
                                {
                                    "szoba_fk": "160",
                                    "(No column name)": "4"
                                },
                                {
                                    "szoba_fk": "160",
                                    "(No column name)": "1"
                                },
                                {
                                    "szoba_fk": "160",
                                    "(No column name)": "5"
                                },
                                {
                                    "szoba_fk": "161",
                                    "(No column name)": "5"
                                },
                                {
                                    "szoba_fk": "161",
                                    "(No column name)": "1"
                                },
                                {
                                    "szoba_fk": "161",
                                    "(No column name)": "6"
                                },
                                {
                                    "szoba_fk": "162",
                                    "(No column name)": "3"
                                },
                                {
                                    "szoba_fk": "162",
                                    "(No column name)": "3"
                                },
                                {
                                    "szoba_fk": "163",
                                    "(No column name)": "6"
                                },
                                {
                                    "szoba_fk": "163",
                                    "(No column name)": "1"
                                },
                                {
                                    "szoba_fk": "163",
                                    "(No column name)": "7"
                                },
                                {
                                    "szoba_fk": "164",
                                    "(No column name)": "5"
                                },
                                {
                                    "szoba_fk": "164",
                                    "(No column name)": "5"
                                },
                                {
                                    "szoba_fk": "165",
                                    "(No column name)": "7"
                                },
                                {
                                    "szoba_fk": "165",
                                    "(No column name)": "7"
                                },
                                {
                                    "szoba_fk": "166",
                                    "(No column name)": "2"
                                },
                                {
                                    "szoba_fk": "166",
                                    "(No column name)": "1"
                                },
                                {
                                    "szoba_fk": "166",
                                    "(No column name)": "3"
                                },
                                {
                                    "szoba_fk": "167",
                                    "(No column name)": "1"
                                },
                                {
                                    "szoba_fk": "167",
                                    "(No column name)": "1"
                                },
                                {
                                    "szoba_fk": "167",
                                    "(No column name)": "2"
                                },
                                {
                                    "szoba_fk": "168",
                                    "(No column name)": "5"
                                },
                                {
                                    "szoba_fk": "168",
                                    "(No column name)": "5"
                                },
                                {
                                    "szoba_fk": "169",
                                    "(No column name)": "5"
                                },
                                {
                                    "szoba_fk": "169",
                                    "(No column name)": "1"
                                },
                                {
                                    "szoba_fk": "169",
                                    "(No column name)": "6"
                                },
                                {
                                    "szoba_fk": "170",
                                    "(No column name)": "5"
                                },
                                {
                                    "szoba_fk": "170",
                                    "(No column name)": "5"
                                },
                                {
                                    "szoba_fk": "171",
                                    "(No column name)": "4"
                                },
                                {
                                    "szoba_fk": "171",
                                    "(No column name)": "1"
                                },
                                {
                                    "szoba_fk": "171",
                                    "(No column name)": "5"
                                },
                                {
                                    "szoba_fk": "172",
                                    "(No column name)": "7"
                                },
                                {
                                    "szoba_fk": "172",
                                    "(No column name)": "2"
                                },
                                {
                                    "szoba_fk": "172",
                                    "(No column name)": "9"
                                },
                                {
                                    "szoba_fk": "173",
                                    "(No column name)": "3"
                                },
                                {
                                    "szoba_fk": "173",
                                    "(No column name)": "1"
                                },
                                {
                                    "szoba_fk": "173",
                                    "(No column name)": "4"
                                },
                                {
                                    "szoba_fk": "174",
                                    "(No column name)": "4"
                                },
                                {
                                    "szoba_fk": "174",
                                    "(No column name)": "4"
                                },
                                {
                                    "szoba_fk": "175",
                                    "(No column name)": "5"
                                },
                                {
                                    "szoba_fk": "175",
                                    "(No column name)": "5"
                                },
                                {
                                    "szoba_fk": "176",
                                    "(No column name)": "4"
                                },
                                {
                                    "szoba_fk": "176",
                                    "(No column name)": "2"
                                },
                                {
                                    "szoba_fk": "176",
                                    "(No column name)": "6"
                                },
                                {
                                    "szoba_fk": "177",
                                    "(No column name)": "3"
                                },
                                {
                                    "szoba_fk": "177",
                                    "(No column name)": "1"
                                },
                                {
                                    "szoba_fk": "177",
                                    "(No column name)": "4"
                                },
                                {
                                    "szoba_fk": "178",
                                    "(No column name)": "4"
                                },
                                {
                                    "szoba_fk": "178",
                                    "(No column name)": "4"
                                },
                                {
                                    "szoba_fk": "179",
                                    "(No column name)": "2"
                                },
                                {
                                    "szoba_fk": "179",
                                    "(No column name)": "1"
                                },
                                {
                                    "szoba_fk": "179",
                                    "(No column name)": "3"
                                },
                                {
                                    "szoba_fk": "180",
                                    "(No column name)": "1"
                                },
                                {
                                    "szoba_fk": "180",
                                    "(No column name)": "2"
                                },
                                {
                                    "szoba_fk": "180",
                                    "(No column name)": "3"
                                },
                                {
                                    "szoba_fk": "181",
                                    "(No column name)": "6"
                                },
                                {
                                    "szoba_fk": "181",
                                    "(No column name)": "6"
                                },
                                {
                                    "szoba_fk": "182",
                                    "(No column name)": "10"
                                },
                                {
                                    "szoba_fk": "182",
                                    "(No column name)": "2"
                                },
                                {
                                    "szoba_fk": "182",
                                    "(No column name)": "12"
                                },
                                {
                                    "szoba_fk": "183",
                                    "(No column name)": "3"
                                },
                                {
                                    "szoba_fk": "183",
                                    "(No column name)": "1"
                                },
                                {
                                    "szoba_fk": "183",
                                    "(No column name)": "4"
                                },
                                {
                                    "szoba_fk": "184",
                                    "(No column name)": "4"
                                },
                                {
                                    "szoba_fk": "184",
                                    "(No column name)": "4"
                                },
                                {
                                    "szoba_fk": "185",
                                    "(No column name)": "10"
                                },
                                {
                                    "szoba_fk": "185",
                                    "(No column name)": "2"
                                },
                                {
                                    "szoba_fk": "185",
                                    "(No column name)": "12"
                                },
                                {
                                    "szoba_fk": "186",
                                    "(No column name)": "3"
                                },
                                {
                                    "szoba_fk": "186",
                                    "(No column name)": "1"
                                },
                                {
                                    "szoba_fk": "186",
                                    "(No column name)": "4"
                                },
                                {
                                    "szoba_fk": "187",
                                    "(No column name)": "7"
                                },
                                {
                                    "szoba_fk": "187",
                                    "(No column name)": "7"
                                },
                                {
                                    "szoba_fk": "188",
                                    "(No column name)": "6"
                                },
                                {
                                    "szoba_fk": "188",
                                    "(No column name)": "6"
                                },
                                {
                                    "szoba_fk": "189",
                                    "(No column name)": "3"
                                },
                                {
                                    "szoba_fk": "189",
                                    "(No column name)": "2"
                                },
                                {
                                    "szoba_fk": "189",
                                    "(No column name)": "5"
                                },
                                {
                                    "szoba_fk": "190",
                                    "(No column name)": "4"
                                },
                                {
                                    "szoba_fk": "190",
                                    "(No column name)": "1"
                                },
                                {
                                    "szoba_fk": "190",
                                    "(No column name)": "5"
                                },
                                {
                                    "szoba_fk": "191",
                                    "(No column name)": "3"
                                },
                                {
                                    "szoba_fk": "191",
                                    "(No column name)": "2"
                                },
                                {
                                    "szoba_fk": "191",
                                    "(No column name)": "5"
                                },
                                {
                                    "szoba_fk": "192",
                                    "(No column name)": "2"
                                },
                                {
                                    "szoba_fk": "192",
                                    "(No column name)": "2"
                                },
                                {
                                    "szoba_fk": "193",
                                    "(No column name)": "7"
                                },
                                {
                                    "szoba_fk": "193",
                                    "(No column name)": "7"
                                },
                                {
                                    "szoba_fk": "194",
                                    "(No column name)": "1"
                                },
                                {
                                    "szoba_fk": "194",
                                    "(No column name)": "1"
                                },
                                {
                                    "szoba_fk": "195",
                                    "(No column name)": "4"
                                },
                                {
                                    "szoba_fk": "195",
                                    "(No column name)": "2"
                                },
                                {
                                    "szoba_fk": "195",
                                    "(No column name)": "6"
                                },
                                {
                                    "szoba_fk": "196",
                                    "(No column name)": "4"
                                },
                                {
                                    "szoba_fk": "196",
                                    "(No column name)": "4"
                                },
                                {
                                    "szoba_fk": "197",
                                    "(No column name)": "6"
                                },
                                {
                                    "szoba_fk": "197",
                                    "(No column name)": "6"
                                },
                                {
                                    "szoba_fk": "198",
                                    "(No column name)": "7"
                                },
                                {
                                    "szoba_fk": "198",
                                    "(No column name)": "1"
                                },
                                {
                                    "szoba_fk": "198",
                                    "(No column name)": "8"
                                },
                                {
                                    "szoba_fk": "NULL",
                                    "(No column name)": "1027"
                                }
                            ]
                        },
                        "text/html": [
                            "<table>",
                            "<tr><th>szoba_fk</th><th>(No column name)</th><th>(No column name)</th></tr>",
                            "<tr><td>1</td><td>2016</td><td>8</td></tr>",
                            "<tr><td>1</td><td>Részösszeg</td><td>8</td></tr>",
                            "<tr><td>2</td><td>2016</td><td>4</td></tr>",
                            "<tr><td>2</td><td>Részösszeg</td><td>4</td></tr>",
                            "<tr><td>3</td><td>2016</td><td>6</td></tr>",
                            "<tr><td>3</td><td>2017</td><td>2</td></tr>",
                            "<tr><td>3</td><td>Részösszeg</td><td>8</td></tr>",
                            "<tr><td>4</td><td>2016</td><td>5</td></tr>",
                            "<tr><td>4</td><td>2017</td><td>1</td></tr>",
                            "<tr><td>4</td><td>Részösszeg</td><td>6</td></tr>",
                            "<tr><td>5</td><td>2016</td><td>4</td></tr>",
                            "<tr><td>5</td><td>Részösszeg</td><td>4</td></tr>",
                            "<tr><td>6</td><td>2016</td><td>6</td></tr>",
                            "<tr><td>6</td><td>Részösszeg</td><td>6</td></tr>",
                            "<tr><td>7</td><td>2016</td><td>6</td></tr>",
                            "<tr><td>7</td><td>Részösszeg</td><td>6</td></tr>",
                            "<tr><td>8</td><td>2016</td><td>5</td></tr>",
                            "<tr><td>8</td><td>Részösszeg</td><td>5</td></tr>",
                            "<tr><td>9</td><td>2016</td><td>4</td></tr>",
                            "<tr><td>9</td><td>2017</td><td>2</td></tr>",
                            "<tr><td>9</td><td>Részösszeg</td><td>6</td></tr>",
                            "<tr><td>10</td><td>2016</td><td>4</td></tr>",
                            "<tr><td>10</td><td>Részösszeg</td><td>4</td></tr>",
                            "<tr><td>11</td><td>2016</td><td>3</td></tr>",
                            "<tr><td>11</td><td>2017</td><td>1</td></tr>",
                            "<tr><td>11</td><td>Részösszeg</td><td>4</td></tr>",
                            "<tr><td>12</td><td>2016</td><td>8</td></tr>",
                            "<tr><td>12</td><td>2017</td><td>1</td></tr>",
                            "<tr><td>12</td><td>Részösszeg</td><td>9</td></tr>",
                            "<tr><td>13</td><td>2016</td><td>3</td></tr>",
                            "<tr><td>13</td><td>2017</td><td>1</td></tr>",
                            "<tr><td>13</td><td>Részösszeg</td><td>4</td></tr>",
                            "<tr><td>14</td><td>2016</td><td>2</td></tr>",
                            "<tr><td>14</td><td>2017</td><td>1</td></tr>",
                            "<tr><td>14</td><td>Részösszeg</td><td>3</td></tr>",
                            "<tr><td>15</td><td>2016</td><td>4</td></tr>",
                            "<tr><td>15</td><td>2017</td><td>2</td></tr>",
                            "<tr><td>15</td><td>Részösszeg</td><td>6</td></tr>",
                            "<tr><td>16</td><td>2016</td><td>4</td></tr>",
                            "<tr><td>16</td><td>2017</td><td>1</td></tr>",
                            "<tr><td>16</td><td>Részösszeg</td><td>5</td></tr>",
                            "<tr><td>17</td><td>2016</td><td>5</td></tr>",
                            "<tr><td>17</td><td>2017</td><td>1</td></tr>",
                            "<tr><td>17</td><td>Részösszeg</td><td>6</td></tr>",
                            "<tr><td>18</td><td>2016</td><td>5</td></tr>",
                            "<tr><td>18</td><td>2017</td><td>1</td></tr>",
                            "<tr><td>18</td><td>Részösszeg</td><td>6</td></tr>",
                            "<tr><td>19</td><td>2016</td><td>5</td></tr>",
                            "<tr><td>19</td><td>2017</td><td>1</td></tr>",
                            "<tr><td>19</td><td>Részösszeg</td><td>6</td></tr>",
                            "<tr><td>20</td><td>2016</td><td>5</td></tr>",
                            "<tr><td>20</td><td>Részösszeg</td><td>5</td></tr>",
                            "<tr><td>21</td><td>2016</td><td>4</td></tr>",
                            "<tr><td>21</td><td>Részösszeg</td><td>4</td></tr>",
                            "<tr><td>22</td><td>2016</td><td>6</td></tr>",
                            "<tr><td>22</td><td>Részösszeg</td><td>6</td></tr>",
                            "<tr><td>23</td><td>2016</td><td>3</td></tr>",
                            "<tr><td>23</td><td>Részösszeg</td><td>3</td></tr>",
                            "<tr><td>24</td><td>2016</td><td>2</td></tr>",
                            "<tr><td>24</td><td>2017</td><td>1</td></tr>",
                            "<tr><td>24</td><td>Részösszeg</td><td>3</td></tr>",
                            "<tr><td>25</td><td>2016</td><td>2</td></tr>",
                            "<tr><td>25</td><td>Részösszeg</td><td>2</td></tr>",
                            "<tr><td>26</td><td>2016</td><td>2</td></tr>",
                            "<tr><td>26</td><td>Részösszeg</td><td>2</td></tr>",
                            "<tr><td>27</td><td>2016</td><td>6</td></tr>",
                            "<tr><td>27</td><td>2017</td><td>1</td></tr>",
                            "<tr><td>27</td><td>Részösszeg</td><td>7</td></tr>",
                            "<tr><td>28</td><td>2016</td><td>5</td></tr>",
                            "<tr><td>28</td><td>2017</td><td>1</td></tr>",
                            "<tr><td>28</td><td>Részösszeg</td><td>6</td></tr>",
                            "<tr><td>29</td><td>2016</td><td>5</td></tr>",
                            "<tr><td>29</td><td>2017</td><td>1</td></tr>",
                            "<tr><td>29</td><td>Részösszeg</td><td>6</td></tr>",
                            "<tr><td>30</td><td>2016</td><td>3</td></tr>",
                            "<tr><td>30</td><td>Részösszeg</td><td>3</td></tr>",
                            "<tr><td>31</td><td>2016</td><td>3</td></tr>",
                            "<tr><td>31</td><td>Részösszeg</td><td>3</td></tr>",
                            "<tr><td>32</td><td>2016</td><td>1</td></tr>",
                            "<tr><td>32</td><td>Részösszeg</td><td>1</td></tr>",
                            "<tr><td>33</td><td>2016</td><td>6</td></tr>",
                            "<tr><td>33</td><td>Részösszeg</td><td>6</td></tr>",
                            "<tr><td>34</td><td>2016</td><td>4</td></tr>",
                            "<tr><td>34</td><td>Részösszeg</td><td>4</td></tr>",
                            "<tr><td>35</td><td>2016</td><td>6</td></tr>",
                            "<tr><td>35</td><td>2017</td><td>3</td></tr>",
                            "<tr><td>35</td><td>Részösszeg</td><td>9</td></tr>",
                            "<tr><td>36</td><td>2016</td><td>6</td></tr>",
                            "<tr><td>36</td><td>Részösszeg</td><td>6</td></tr>",
                            "<tr><td>37</td><td>2016</td><td>3</td></tr>",
                            "<tr><td>37</td><td>Részösszeg</td><td>3</td></tr>",
                            "<tr><td>38</td><td>2016</td><td>5</td></tr>",
                            "<tr><td>38</td><td>2017</td><td>3</td></tr>",
                            "<tr><td>38</td><td>Részösszeg</td><td>8</td></tr>",
                            "<tr><td>39</td><td>2016</td><td>4</td></tr>",
                            "<tr><td>39</td><td>2017</td><td>3</td></tr>",
                            "<tr><td>39</td><td>Részösszeg</td><td>7</td></tr>",
                            "<tr><td>40</td><td>2016</td><td>4</td></tr>",
                            "<tr><td>40</td><td>Részösszeg</td><td>4</td></tr>",
                            "<tr><td>41</td><td>2016</td><td>2</td></tr>",
                            "<tr><td>41</td><td>Részösszeg</td><td>2</td></tr>",
                            "<tr><td>42</td><td>2016</td><td>5</td></tr>",
                            "<tr><td>42</td><td>2017</td><td>1</td></tr>",
                            "<tr><td>42</td><td>Részösszeg</td><td>6</td></tr>",
                            "<tr><td>43</td><td>2016</td><td>6</td></tr>",
                            "<tr><td>43</td><td>2017</td><td>2</td></tr>",
                            "<tr><td>43</td><td>Részösszeg</td><td>8</td></tr>",
                            "<tr><td>44</td><td>2016</td><td>4</td></tr>",
                            "<tr><td>44</td><td>2017</td><td>2</td></tr>",
                            "<tr><td>44</td><td>Részösszeg</td><td>6</td></tr>",
                            "<tr><td>45</td><td>2016</td><td>5</td></tr>",
                            "<tr><td>45</td><td>Részösszeg</td><td>5</td></tr>",
                            "<tr><td>46</td><td>2016</td><td>3</td></tr>",
                            "<tr><td>46</td><td>2017</td><td>1</td></tr>",
                            "<tr><td>46</td><td>Részösszeg</td><td>4</td></tr>",
                            "<tr><td>47</td><td>2016</td><td>2</td></tr>",
                            "<tr><td>47</td><td>Részösszeg</td><td>2</td></tr>",
                            "<tr><td>48</td><td>2016</td><td>6</td></tr>",
                            "<tr><td>48</td><td>2017</td><td>3</td></tr>",
                            "<tr><td>48</td><td>Részösszeg</td><td>9</td></tr>",
                            "<tr><td>49</td><td>2016</td><td>6</td></tr>",
                            "<tr><td>49</td><td>2017</td><td>1</td></tr>",
                            "<tr><td>49</td><td>Részösszeg</td><td>7</td></tr>",
                            "<tr><td>50</td><td>2016</td><td>4</td></tr>",
                            "<tr><td>50</td><td>Részösszeg</td><td>4</td></tr>",
                            "<tr><td>51</td><td>2016</td><td>3</td></tr>",
                            "<tr><td>51</td><td>2017</td><td>2</td></tr>",
                            "<tr><td>51</td><td>Részösszeg</td><td>5</td></tr>",
                            "<tr><td>52</td><td>2016</td><td>3</td></tr>",
                            "<tr><td>52</td><td>2017</td><td>2</td></tr>",
                            "<tr><td>52</td><td>Részösszeg</td><td>5</td></tr>",
                            "<tr><td>53</td><td>2016</td><td>2</td></tr>",
                            "<tr><td>53</td><td>Részösszeg</td><td>2</td></tr>",
                            "<tr><td>54</td><td>2016</td><td>6</td></tr>",
                            "<tr><td>54</td><td>Részösszeg</td><td>6</td></tr>",
                            "<tr><td>55</td><td>2016</td><td>6</td></tr>",
                            "<tr><td>55</td><td>2017</td><td>2</td></tr>",
                            "<tr><td>55</td><td>Részösszeg</td><td>8</td></tr>",
                            "<tr><td>56</td><td>2016</td><td>2</td></tr>",
                            "<tr><td>56</td><td>Részösszeg</td><td>2</td></tr>",
                            "<tr><td>57</td><td>2016</td><td>2</td></tr>",
                            "<tr><td>57</td><td>2017</td><td>2</td></tr>",
                            "<tr><td>57</td><td>Részösszeg</td><td>4</td></tr>",
                            "<tr><td>58</td><td>2016</td><td>12</td></tr>",
                            "<tr><td>58</td><td>2017</td><td>1</td></tr>",
                            "<tr><td>58</td><td>Részösszeg</td><td>13</td></tr>",
                            "<tr><td>59</td><td>2016</td><td>6</td></tr>",
                            "<tr><td>59</td><td>2017</td><td>1</td></tr>",
                            "<tr><td>59</td><td>Részösszeg</td><td>7</td></tr>",
                            "<tr><td>60</td><td>2016</td><td>1</td></tr>",
                            "<tr><td>60</td><td>Részösszeg</td><td>1</td></tr>",
                            "<tr><td>61</td><td>2016</td><td>4</td></tr>",
                            "<tr><td>61</td><td>2017</td><td>1</td></tr>",
                            "<tr><td>61</td><td>Részösszeg</td><td>5</td></tr>",
                            "<tr><td>62</td><td>2016</td><td>4</td></tr>",
                            "<tr><td>62</td><td>2017</td><td>1</td></tr>",
                            "<tr><td>62</td><td>Részösszeg</td><td>5</td></tr>",
                            "<tr><td>63</td><td>2016</td><td>4</td></tr>",
                            "<tr><td>63</td><td>Részösszeg</td><td>4</td></tr>",
                            "<tr><td>64</td><td>2016</td><td>3</td></tr>",
                            "<tr><td>64</td><td>2017</td><td>3</td></tr>",
                            "<tr><td>64</td><td>Részösszeg</td><td>6</td></tr>",
                            "<tr><td>65</td><td>2016</td><td>1</td></tr>",
                            "<tr><td>65</td><td>Részösszeg</td><td>1</td></tr>",
                            "<tr><td>66</td><td>2016</td><td>4</td></tr>",
                            "<tr><td>66</td><td>Részösszeg</td><td>4</td></tr>",
                            "<tr><td>67</td><td>2016</td><td>4</td></tr>",
                            "<tr><td>67</td><td>2017</td><td>2</td></tr>",
                            "<tr><td>67</td><td>Részösszeg</td><td>6</td></tr>",
                            "<tr><td>68</td><td>2016</td><td>3</td></tr>",
                            "<tr><td>68</td><td>Részösszeg</td><td>3</td></tr>",
                            "<tr><td>69</td><td>2016</td><td>4</td></tr>",
                            "<tr><td>69</td><td>Részösszeg</td><td>4</td></tr>",
                            "<tr><td>70</td><td>2016</td><td>10</td></tr>",
                            "<tr><td>70</td><td>2017</td><td>1</td></tr>",
                            "<tr><td>70</td><td>Részösszeg</td><td>11</td></tr>",
                            "<tr><td>71</td><td>2016</td><td>3</td></tr>",
                            "<tr><td>71</td><td>Részösszeg</td><td>3</td></tr>",
                            "<tr><td>72</td><td>2016</td><td>4</td></tr>",
                            "<tr><td>72</td><td>Részösszeg</td><td>4</td></tr>",
                            "<tr><td>73</td><td>2016</td><td>4</td></tr>",
                            "<tr><td>73</td><td>Részösszeg</td><td>4</td></tr>",
                            "<tr><td>74</td><td>2016</td><td>9</td></tr>",
                            "<tr><td>74</td><td>Részösszeg</td><td>9</td></tr>",
                            "<tr><td>75</td><td>2016</td><td>1</td></tr>",
                            "<tr><td>75</td><td>2017</td><td>2</td></tr>",
                            "<tr><td>75</td><td>Részösszeg</td><td>3</td></tr>",
                            "<tr><td>76</td><td>2016</td><td>2</td></tr>",
                            "<tr><td>76</td><td>2017</td><td>1</td></tr>",
                            "<tr><td>76</td><td>Részösszeg</td><td>3</td></tr>",
                            "<tr><td>77</td><td>2016</td><td>4</td></tr>",
                            "<tr><td>77</td><td>2017</td><td>2</td></tr>",
                            "<tr><td>77</td><td>Részösszeg</td><td>6</td></tr>",
                            "<tr><td>78</td><td>2016</td><td>5</td></tr>",
                            "<tr><td>78</td><td>2017</td><td>1</td></tr>",
                            "<tr><td>78</td><td>Részösszeg</td><td>6</td></tr>",
                            "<tr><td>79</td><td>2016</td><td>4</td></tr>",
                            "<tr><td>79</td><td>2017</td><td>1</td></tr>",
                            "<tr><td>79</td><td>Részösszeg</td><td>5</td></tr>",
                            "<tr><td>80</td><td>2016</td><td>7</td></tr>",
                            "<tr><td>80</td><td>Részösszeg</td><td>7</td></tr>",
                            "<tr><td>81</td><td>2016</td><td>1</td></tr>",
                            "<tr><td>81</td><td>2017</td><td>4</td></tr>",
                            "<tr><td>81</td><td>Részösszeg</td><td>5</td></tr>",
                            "<tr><td>82</td><td>2016</td><td>6</td></tr>",
                            "<tr><td>82</td><td>Részösszeg</td><td>6</td></tr>",
                            "<tr><td>83</td><td>2016</td><td>8</td></tr>",
                            "<tr><td>83</td><td>Részösszeg</td><td>8</td></tr>",
                            "<tr><td>84</td><td>2016</td><td>4</td></tr>",
                            "<tr><td>84</td><td>Részösszeg</td><td>4</td></tr>",
                            "<tr><td>85</td><td>2016</td><td>3</td></tr>",
                            "<tr><td>85</td><td>2017</td><td>1</td></tr>",
                            "<tr><td>85</td><td>Részösszeg</td><td>4</td></tr>",
                            "<tr><td>86</td><td>2016</td><td>4</td></tr>",
                            "<tr><td>86</td><td>2017</td><td>1</td></tr>",
                            "<tr><td>86</td><td>Részösszeg</td><td>5</td></tr>",
                            "<tr><td>87</td><td>2016</td><td>4</td></tr>",
                            "<tr><td>87</td><td>2017</td><td>1</td></tr>",
                            "<tr><td>87</td><td>Részösszeg</td><td>5</td></tr>",
                            "<tr><td>88</td><td>2016</td><td>6</td></tr>",
                            "<tr><td>88</td><td>2017</td><td>2</td></tr>",
                            "<tr><td>88</td><td>Részösszeg</td><td>8</td></tr>",
                            "<tr><td>89</td><td>2016</td><td>7</td></tr>",
                            "<tr><td>89</td><td>2017</td><td>1</td></tr>",
                            "<tr><td>89</td><td>Részösszeg</td><td>8</td></tr>",
                            "<tr><td>90</td><td>2016</td><td>4</td></tr>",
                            "<tr><td>90</td><td>Részösszeg</td><td>4</td></tr>",
                            "<tr><td>91</td><td>2016</td><td>4</td></tr>",
                            "<tr><td>91</td><td>Részösszeg</td><td>4</td></tr>",
                            "<tr><td>92</td><td>2016</td><td>4</td></tr>",
                            "<tr><td>92</td><td>2017</td><td>2</td></tr>",
                            "<tr><td>92</td><td>Részösszeg</td><td>6</td></tr>",
                            "<tr><td>93</td><td>2016</td><td>5</td></tr>",
                            "<tr><td>93</td><td>Részösszeg</td><td>5</td></tr>",
                            "<tr><td>94</td><td>2016</td><td>8</td></tr>",
                            "<tr><td>94</td><td>2017</td><td>2</td></tr>",
                            "<tr><td>94</td><td>Részösszeg</td><td>10</td></tr>",
                            "<tr><td>95</td><td>2016</td><td>3</td></tr>",
                            "<tr><td>95</td><td>2017</td><td>1</td></tr>",
                            "<tr><td>95</td><td>Részösszeg</td><td>4</td></tr>",
                            "<tr><td>96</td><td>2016</td><td>5</td></tr>",
                            "<tr><td>96</td><td>2017</td><td>2</td></tr>",
                            "<tr><td>96</td><td>Részösszeg</td><td>7</td></tr>",
                            "<tr><td>97</td><td>2016</td><td>5</td></tr>",
                            "<tr><td>97</td><td>2017</td><td>2</td></tr>",
                            "<tr><td>97</td><td>Részösszeg</td><td>7</td></tr>",
                            "<tr><td>98</td><td>2016</td><td>4</td></tr>",
                            "<tr><td>98</td><td>Részösszeg</td><td>4</td></tr>",
                            "<tr><td>99</td><td>2016</td><td>4</td></tr>",
                            "<tr><td>99</td><td>2017</td><td>1</td></tr>",
                            "<tr><td>99</td><td>Részösszeg</td><td>5</td></tr>",
                            "<tr><td>100</td><td>2016</td><td>3</td></tr>",
                            "<tr><td>100</td><td>2017</td><td>1</td></tr>",
                            "<tr><td>100</td><td>Részösszeg</td><td>4</td></tr>",
                            "<tr><td>101</td><td>2016</td><td>2</td></tr>",
                            "<tr><td>101</td><td>2017</td><td>1</td></tr>",
                            "<tr><td>101</td><td>Részösszeg</td><td>3</td></tr>",
                            "<tr><td>102</td><td>2016</td><td>2</td></tr>",
                            "<tr><td>102</td><td>Részösszeg</td><td>2</td></tr>",
                            "<tr><td>103</td><td>2016</td><td>3</td></tr>",
                            "<tr><td>103</td><td>2017</td><td>1</td></tr>",
                            "<tr><td>103</td><td>Részösszeg</td><td>4</td></tr>",
                            "<tr><td>104</td><td>2016</td><td>2</td></tr>",
                            "<tr><td>104</td><td>2017</td><td>2</td></tr>",
                            "<tr><td>104</td><td>Részösszeg</td><td>4</td></tr>",
                            "<tr><td>105</td><td>2016</td><td>1</td></tr>",
                            "<tr><td>105</td><td>2017</td><td>1</td></tr>",
                            "<tr><td>105</td><td>Részösszeg</td><td>2</td></tr>",
                            "<tr><td>106</td><td>2016</td><td>5</td></tr>",
                            "<tr><td>106</td><td>2017</td><td>1</td></tr>",
                            "<tr><td>106</td><td>Részösszeg</td><td>6</td></tr>",
                            "<tr><td>107</td><td>2016</td><td>3</td></tr>",
                            "<tr><td>107</td><td>2017</td><td>2</td></tr>",
                            "<tr><td>107</td><td>Részösszeg</td><td>5</td></tr>",
                            "<tr><td>108</td><td>2016</td><td>2</td></tr>",
                            "<tr><td>108</td><td>Részösszeg</td><td>2</td></tr>",
                            "<tr><td>109</td><td>2016</td><td>6</td></tr>",
                            "<tr><td>109</td><td>2017</td><td>1</td></tr>",
                            "<tr><td>109</td><td>Részösszeg</td><td>7</td></tr>",
                            "<tr><td>110</td><td>2016</td><td>6</td></tr>",
                            "<tr><td>110</td><td>2017</td><td>2</td></tr>",
                            "<tr><td>110</td><td>Részösszeg</td><td>8</td></tr>",
                            "<tr><td>111</td><td>2016</td><td>5</td></tr>",
                            "<tr><td>111</td><td>Részösszeg</td><td>5</td></tr>",
                            "<tr><td>112</td><td>2016</td><td>4</td></tr>",
                            "<tr><td>112</td><td>2017</td><td>1</td></tr>",
                            "<tr><td>112</td><td>Részösszeg</td><td>5</td></tr>",
                            "<tr><td>113</td><td>2016</td><td>3</td></tr>",
                            "<tr><td>113</td><td>2017</td><td>2</td></tr>",
                            "<tr><td>113</td><td>Részösszeg</td><td>5</td></tr>",
                            "<tr><td>114</td><td>2016</td><td>3</td></tr>",
                            "<tr><td>114</td><td>2017</td><td>1</td></tr>",
                            "<tr><td>114</td><td>Részösszeg</td><td>4</td></tr>",
                            "<tr><td>115</td><td>2016</td><td>5</td></tr>",
                            "<tr><td>115</td><td>2017</td><td>2</td></tr>",
                            "<tr><td>115</td><td>Részösszeg</td><td>7</td></tr>",
                            "<tr><td>116</td><td>2017</td><td>2</td></tr>",
                            "<tr><td>116</td><td>Részösszeg</td><td>2</td></tr>",
                            "<tr><td>117</td><td>2016</td><td>7</td></tr>",
                            "<tr><td>117</td><td>2017</td><td>1</td></tr>",
                            "<tr><td>117</td><td>Részösszeg</td><td>8</td></tr>",
                            "<tr><td>118</td><td>2016</td><td>5</td></tr>",
                            "<tr><td>118</td><td>2017</td><td>2</td></tr>",
                            "<tr><td>118</td><td>Részösszeg</td><td>7</td></tr>",
                            "<tr><td>119</td><td>2016</td><td>3</td></tr>",
                            "<tr><td>119</td><td>2017</td><td>2</td></tr>",
                            "<tr><td>119</td><td>Részösszeg</td><td>5</td></tr>",
                            "<tr><td>120</td><td>2016</td><td>4</td></tr>",
                            "<tr><td>120</td><td>2017</td><td>2</td></tr>",
                            "<tr><td>120</td><td>Részösszeg</td><td>6</td></tr>",
                            "<tr><td>121</td><td>2016</td><td>8</td></tr>",
                            "<tr><td>121</td><td>Részösszeg</td><td>8</td></tr>",
                            "<tr><td>122</td><td>2016</td><td>8</td></tr>",
                            "<tr><td>122</td><td>2017</td><td>1</td></tr>",
                            "<tr><td>122</td><td>Részösszeg</td><td>9</td></tr>",
                            "<tr><td>123</td><td>2016</td><td>5</td></tr>",
                            "<tr><td>123</td><td>Részösszeg</td><td>5</td></tr>",
                            "<tr><td>124</td><td>2016</td><td>4</td></tr>",
                            "<tr><td>124</td><td>2017</td><td>2</td></tr>",
                            "<tr><td>124</td><td>Részösszeg</td><td>6</td></tr>",
                            "<tr><td>125</td><td>2016</td><td>1</td></tr>",
                            "<tr><td>125</td><td>Részösszeg</td><td>1</td></tr>",
                            "<tr><td>126</td><td>2016</td><td>4</td></tr>",
                            "<tr><td>126</td><td>2017</td><td>2</td></tr>",
                            "<tr><td>126</td><td>Részösszeg</td><td>6</td></tr>",
                            "<tr><td>127</td><td>2016</td><td>6</td></tr>",
                            "<tr><td>127</td><td>2017</td><td>1</td></tr>",
                            "<tr><td>127</td><td>Részösszeg</td><td>7</td></tr>",
                            "<tr><td>128</td><td>2016</td><td>3</td></tr>",
                            "<tr><td>128</td><td>2017</td><td>2</td></tr>",
                            "<tr><td>128</td><td>Részösszeg</td><td>5</td></tr>",
                            "<tr><td>129</td><td>2016</td><td>2</td></tr>",
                            "<tr><td>129</td><td>2017</td><td>2</td></tr>",
                            "<tr><td>129</td><td>Részösszeg</td><td>4</td></tr>",
                            "<tr><td>130</td><td>2016</td><td>5</td></tr>",
                            "<tr><td>130</td><td>2017</td><td>1</td></tr>",
                            "<tr><td>130</td><td>Részösszeg</td><td>6</td></tr>",
                            "<tr><td>131</td><td>2016</td><td>4</td></tr>",
                            "<tr><td>131</td><td>2017</td><td>1</td></tr>",
                            "<tr><td>131</td><td>Részösszeg</td><td>5</td></tr>",
                            "<tr><td>132</td><td>2016</td><td>5</td></tr>",
                            "<tr><td>132</td><td>2017</td><td>1</td></tr>",
                            "<tr><td>132</td><td>Részösszeg</td><td>6</td></tr>",
                            "<tr><td>133</td><td>2016</td><td>5</td></tr>",
                            "<tr><td>133</td><td>2017</td><td>1</td></tr>",
                            "<tr><td>133</td><td>Részösszeg</td><td>6</td></tr>",
                            "<tr><td>134</td><td>2016</td><td>5</td></tr>",
                            "<tr><td>134</td><td>2017</td><td>1</td></tr>",
                            "<tr><td>134</td><td>Részösszeg</td><td>6</td></tr>",
                            "<tr><td>135</td><td>2016</td><td>3</td></tr>",
                            "<tr><td>135</td><td>Részösszeg</td><td>3</td></tr>",
                            "<tr><td>136</td><td>2016</td><td>3</td></tr>",
                            "<tr><td>136</td><td>Részösszeg</td><td>3</td></tr>",
                            "<tr><td>137</td><td>2016</td><td>6</td></tr>",
                            "<tr><td>137</td><td>Részösszeg</td><td>6</td></tr>",
                            "<tr><td>138</td><td>2016</td><td>7</td></tr>",
                            "<tr><td>138</td><td>Részösszeg</td><td>7</td></tr>",
                            "<tr><td>139</td><td>2016</td><td>5</td></tr>",
                            "<tr><td>139</td><td>2017</td><td>2</td></tr>",
                            "<tr><td>139</td><td>Részösszeg</td><td>7</td></tr>",
                            "<tr><td>140</td><td>2016</td><td>8</td></tr>",
                            "<tr><td>140</td><td>Részösszeg</td><td>8</td></tr>",
                            "<tr><td>141</td><td>2016</td><td>6</td></tr>",
                            "<tr><td>141</td><td>Részösszeg</td><td>6</td></tr>",
                            "<tr><td>142</td><td>2016</td><td>1</td></tr>",
                            "<tr><td>142</td><td>2017</td><td>1</td></tr>",
                            "<tr><td>142</td><td>Részösszeg</td><td>2</td></tr>",
                            "<tr><td>143</td><td>2016</td><td>6</td></tr>",
                            "<tr><td>143</td><td>2017</td><td>1</td></tr>",
                            "<tr><td>143</td><td>Részösszeg</td><td>7</td></tr>",
                            "<tr><td>144</td><td>2016</td><td>4</td></tr>",
                            "<tr><td>144</td><td>2017</td><td>1</td></tr>",
                            "<tr><td>144</td><td>Részösszeg</td><td>5</td></tr>",
                            "<tr><td>145</td><td>2016</td><td>5</td></tr>",
                            "<tr><td>145</td><td>2017</td><td>1</td></tr>",
                            "<tr><td>145</td><td>Részösszeg</td><td>6</td></tr>",
                            "<tr><td>146</td><td>2016</td><td>5</td></tr>",
                            "<tr><td>146</td><td>2017</td><td>1</td></tr>",
                            "<tr><td>146</td><td>Részösszeg</td><td>6</td></tr>",
                            "<tr><td>147</td><td>2016</td><td>1</td></tr>",
                            "<tr><td>147</td><td>Részösszeg</td><td>1</td></tr>",
                            "<tr><td>148</td><td>2016</td><td>5</td></tr>",
                            "<tr><td>148</td><td>2017</td><td>1</td></tr>",
                            "<tr><td>148</td><td>Részösszeg</td><td>6</td></tr>",
                            "<tr><td>149</td><td>2016</td><td>6</td></tr>",
                            "<tr><td>149</td><td>2017</td><td>1</td></tr>",
                            "<tr><td>149</td><td>Részösszeg</td><td>7</td></tr>",
                            "<tr><td>150</td><td>2016</td><td>5</td></tr>",
                            "<tr><td>150</td><td>2017</td><td>1</td></tr>",
                            "<tr><td>150</td><td>Részösszeg</td><td>6</td></tr>",
                            "<tr><td>151</td><td>2016</td><td>3</td></tr>",
                            "<tr><td>151</td><td>Részösszeg</td><td>3</td></tr>",
                            "<tr><td>152</td><td>2016</td><td>3</td></tr>",
                            "<tr><td>152</td><td>2017</td><td>1</td></tr>",
                            "<tr><td>152</td><td>Részösszeg</td><td>4</td></tr>",
                            "<tr><td>153</td><td>2016</td><td>2</td></tr>",
                            "<tr><td>153</td><td>2017</td><td>3</td></tr>",
                            "<tr><td>153</td><td>Részösszeg</td><td>5</td></tr>",
                            "<tr><td>154</td><td>2016</td><td>4</td></tr>",
                            "<tr><td>154</td><td>2017</td><td>1</td></tr>",
                            "<tr><td>154</td><td>Részösszeg</td><td>5</td></tr>",
                            "<tr><td>155</td><td>2016</td><td>4</td></tr>",
                            "<tr><td>155</td><td>2017</td><td>1</td></tr>",
                            "<tr><td>155</td><td>Részösszeg</td><td>5</td></tr>",
                            "<tr><td>156</td><td>2016</td><td>4</td></tr>",
                            "<tr><td>156</td><td>2017</td><td>3</td></tr>",
                            "<tr><td>156</td><td>Részösszeg</td><td>7</td></tr>",
                            "<tr><td>157</td><td>2016</td><td>4</td></tr>",
                            "<tr><td>157</td><td>2017</td><td>1</td></tr>",
                            "<tr><td>157</td><td>Részösszeg</td><td>5</td></tr>",
                            "<tr><td>158</td><td>2016</td><td>3</td></tr>",
                            "<tr><td>158</td><td>Részösszeg</td><td>3</td></tr>",
                            "<tr><td>160</td><td>2016</td><td>4</td></tr>",
                            "<tr><td>160</td><td>2017</td><td>1</td></tr>",
                            "<tr><td>160</td><td>Részösszeg</td><td>5</td></tr>",
                            "<tr><td>161</td><td>2016</td><td>5</td></tr>",
                            "<tr><td>161</td><td>2017</td><td>1</td></tr>",
                            "<tr><td>161</td><td>Részösszeg</td><td>6</td></tr>",
                            "<tr><td>162</td><td>2016</td><td>3</td></tr>",
                            "<tr><td>162</td><td>Részösszeg</td><td>3</td></tr>",
                            "<tr><td>163</td><td>2016</td><td>6</td></tr>",
                            "<tr><td>163</td><td>2017</td><td>1</td></tr>",
                            "<tr><td>163</td><td>Részösszeg</td><td>7</td></tr>",
                            "<tr><td>164</td><td>2016</td><td>5</td></tr>",
                            "<tr><td>164</td><td>Részösszeg</td><td>5</td></tr>",
                            "<tr><td>165</td><td>2016</td><td>7</td></tr>",
                            "<tr><td>165</td><td>Részösszeg</td><td>7</td></tr>",
                            "<tr><td>166</td><td>2016</td><td>2</td></tr>",
                            "<tr><td>166</td><td>2017</td><td>1</td></tr>",
                            "<tr><td>166</td><td>Részösszeg</td><td>3</td></tr>",
                            "<tr><td>167</td><td>2016</td><td>1</td></tr>",
                            "<tr><td>167</td><td>2017</td><td>1</td></tr>",
                            "<tr><td>167</td><td>Részösszeg</td><td>2</td></tr>",
                            "<tr><td>168</td><td>2016</td><td>5</td></tr>",
                            "<tr><td>168</td><td>Részösszeg</td><td>5</td></tr>",
                            "<tr><td>169</td><td>2016</td><td>5</td></tr>",
                            "<tr><td>169</td><td>2017</td><td>1</td></tr>",
                            "<tr><td>169</td><td>Részösszeg</td><td>6</td></tr>",
                            "<tr><td>170</td><td>2016</td><td>5</td></tr>",
                            "<tr><td>170</td><td>Részösszeg</td><td>5</td></tr>",
                            "<tr><td>171</td><td>2016</td><td>4</td></tr>",
                            "<tr><td>171</td><td>2017</td><td>1</td></tr>",
                            "<tr><td>171</td><td>Részösszeg</td><td>5</td></tr>",
                            "<tr><td>172</td><td>2016</td><td>7</td></tr>",
                            "<tr><td>172</td><td>2017</td><td>2</td></tr>",
                            "<tr><td>172</td><td>Részösszeg</td><td>9</td></tr>",
                            "<tr><td>173</td><td>2016</td><td>3</td></tr>",
                            "<tr><td>173</td><td>2017</td><td>1</td></tr>",
                            "<tr><td>173</td><td>Részösszeg</td><td>4</td></tr>",
                            "<tr><td>174</td><td>2016</td><td>4</td></tr>",
                            "<tr><td>174</td><td>Részösszeg</td><td>4</td></tr>",
                            "<tr><td>175</td><td>2016</td><td>5</td></tr>",
                            "<tr><td>175</td><td>Részösszeg</td><td>5</td></tr>",
                            "<tr><td>176</td><td>2016</td><td>4</td></tr>",
                            "<tr><td>176</td><td>2017</td><td>2</td></tr>",
                            "<tr><td>176</td><td>Részösszeg</td><td>6</td></tr>",
                            "<tr><td>177</td><td>2016</td><td>3</td></tr>",
                            "<tr><td>177</td><td>2017</td><td>1</td></tr>",
                            "<tr><td>177</td><td>Részösszeg</td><td>4</td></tr>",
                            "<tr><td>178</td><td>2016</td><td>4</td></tr>",
                            "<tr><td>178</td><td>Részösszeg</td><td>4</td></tr>",
                            "<tr><td>179</td><td>2016</td><td>2</td></tr>",
                            "<tr><td>179</td><td>2017</td><td>1</td></tr>",
                            "<tr><td>179</td><td>Részösszeg</td><td>3</td></tr>",
                            "<tr><td>180</td><td>2016</td><td>1</td></tr>",
                            "<tr><td>180</td><td>2017</td><td>2</td></tr>",
                            "<tr><td>180</td><td>Részösszeg</td><td>3</td></tr>",
                            "<tr><td>181</td><td>2016</td><td>6</td></tr>",
                            "<tr><td>181</td><td>Részösszeg</td><td>6</td></tr>",
                            "<tr><td>182</td><td>2016</td><td>10</td></tr>",
                            "<tr><td>182</td><td>2017</td><td>2</td></tr>",
                            "<tr><td>182</td><td>Részösszeg</td><td>12</td></tr>",
                            "<tr><td>183</td><td>2016</td><td>3</td></tr>",
                            "<tr><td>183</td><td>2017</td><td>1</td></tr>",
                            "<tr><td>183</td><td>Részösszeg</td><td>4</td></tr>",
                            "<tr><td>184</td><td>2016</td><td>4</td></tr>",
                            "<tr><td>184</td><td>Részösszeg</td><td>4</td></tr>",
                            "<tr><td>185</td><td>2016</td><td>10</td></tr>",
                            "<tr><td>185</td><td>2017</td><td>2</td></tr>",
                            "<tr><td>185</td><td>Részösszeg</td><td>12</td></tr>",
                            "<tr><td>186</td><td>2016</td><td>3</td></tr>",
                            "<tr><td>186</td><td>2017</td><td>1</td></tr>",
                            "<tr><td>186</td><td>Részösszeg</td><td>4</td></tr>",
                            "<tr><td>187</td><td>2016</td><td>7</td></tr>",
                            "<tr><td>187</td><td>Részösszeg</td><td>7</td></tr>",
                            "<tr><td>188</td><td>2016</td><td>6</td></tr>",
                            "<tr><td>188</td><td>Részösszeg</td><td>6</td></tr>",
                            "<tr><td>189</td><td>2016</td><td>3</td></tr>",
                            "<tr><td>189</td><td>2017</td><td>2</td></tr>",
                            "<tr><td>189</td><td>Részösszeg</td><td>5</td></tr>",
                            "<tr><td>190</td><td>2016</td><td>4</td></tr>",
                            "<tr><td>190</td><td>2017</td><td>1</td></tr>",
                            "<tr><td>190</td><td>Részösszeg</td><td>5</td></tr>",
                            "<tr><td>191</td><td>2016</td><td>3</td></tr>",
                            "<tr><td>191</td><td>2017</td><td>2</td></tr>",
                            "<tr><td>191</td><td>Részösszeg</td><td>5</td></tr>",
                            "<tr><td>192</td><td>2016</td><td>2</td></tr>",
                            "<tr><td>192</td><td>Részösszeg</td><td>2</td></tr>",
                            "<tr><td>193</td><td>2016</td><td>7</td></tr>",
                            "<tr><td>193</td><td>Részösszeg</td><td>7</td></tr>",
                            "<tr><td>194</td><td>2016</td><td>1</td></tr>",
                            "<tr><td>194</td><td>Részösszeg</td><td>1</td></tr>",
                            "<tr><td>195</td><td>2016</td><td>4</td></tr>",
                            "<tr><td>195</td><td>2017</td><td>2</td></tr>",
                            "<tr><td>195</td><td>Részösszeg</td><td>6</td></tr>",
                            "<tr><td>196</td><td>2016</td><td>4</td></tr>",
                            "<tr><td>196</td><td>Részösszeg</td><td>4</td></tr>",
                            "<tr><td>197</td><td>2016</td><td>6</td></tr>",
                            "<tr><td>197</td><td>Részösszeg</td><td>6</td></tr>",
                            "<tr><td>198</td><td>2016</td><td>7</td></tr>",
                            "<tr><td>198</td><td>2017</td><td>1</td></tr>",
                            "<tr><td>198</td><td>Részösszeg</td><td>8</td></tr>",
                            "<tr><td>NULL</td><td>Részösszeg</td><td>1027</td></tr>",
                            "</table>"
                        ]
                    }
                }
            ],
            "execution_count": 5
        },
        {
            "cell_type": "code",
            "source": [
                ""
            ],
            "metadata": {
                "azdata_cell_guid": "ab34a05e-2866-41ee-8e62-099d47f57aed",
                "language": "sql"
            },
            "outputs": [],
            "execution_count": null
        }
    ]
}